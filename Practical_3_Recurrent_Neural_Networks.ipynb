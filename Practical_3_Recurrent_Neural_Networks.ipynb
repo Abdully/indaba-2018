{
  "nbformat": 4,
  "nbformat_minor": 0,
  "metadata": {
    "colab": {
      "name": "Practical 3: Recurrent Neural Networks",
      "version": "0.3.2",
      "provenance": [],
      "collapsed_sections": []
    },
    "kernelspec": {
      "name": "python2",
      "display_name": "Python 2"
    },
    "accelerator": "GPU"
  },
  "cells": [
    {
      "metadata": {
        "id": "9jDBz0IbW3Xy",
        "colab_type": "text"
      },
      "cell_type": "markdown",
      "source": [
        "# Practical 3: Recurrent Neural Networks (RNNs)\n",
        "\n",
        "\n"
      ]
    },
    {
      "metadata": {
        "id": "-0F3Ao8BKa0g",
        "colab_type": "text"
      },
      "cell_type": "markdown",
      "source": [
        "## Introduction\n",
        "\n",
        "Feedforward models (eg deep MLPs and ConvNets) map fixed-size input-data (vectors of a fixed dimensionality) to their output labels. They're very powerful and have been successfully used for many tasks. However, a lot of data is not in the form of fixed-size vectors, but exists in the form of **sequences**. Language is one good example, where sentences are sequences of words. In some way, almost any data types can be considered as a sequence (for instance an image consists of a sequence of pixels, speech a sequence of phonemes, and so forth). \n",
        "\n",
        "Recurrent neural networks (**RNNs**) were designed to be able to handle sequential data, and in this practical we will take a closer look at RNNs and then build a model that can generate English sentences in the style of Shapespeare!"
      ]
    },
    {
      "metadata": {
        "id": "otAAvBVFSZy8",
        "colab_type": "text"
      },
      "cell_type": "markdown",
      "source": [
        "## Learning Objectives\n",
        "* Understand how RNNs model sequential data.\n",
        "* Understand how the vanilla RNN is a generalization of feedforward models to incorporate sequential dependencies.\n",
        "* Understand the issues involved when training RNNs.\n",
        "* Know how to implement an RNN in Keras and Tensorflow."
      ]
    },
    {
      "metadata": {
        "id": "gfKcEFUxa--9",
        "colab_type": "text"
      },
      "cell_type": "markdown",
      "source": [
        "##Imports\n"
      ]
    },
    {
      "metadata": {
        "id": "h8glXxcyew17",
        "colab_type": "code",
        "colab": {
          "base_uri": "https://localhost:8080/",
          "height": 51
        },
        "outputId": "62eaa1a3-03b2-49ee-b83a-66a4e2ff1eeb"
      },
      "cell_type": "code",
      "source": [
        "#@title Imports (RUN ME!) { display-mode: \"form\" }\n",
        "\n",
        "#!pip -q install pydot_ng\n",
        "#!pip -q install graphviz\n",
        "#!apt install graphviz > /dev/null\n",
        "\n",
        "from __future__ import absolute_import, division, print_function\n",
        "\n",
        "import numpy as np\n",
        "import tensorflow as tf\n",
        "import math\n",
        "import random\n",
        "import ssl\n",
        "import sys\n",
        "import urllib2\n",
        "from IPython import display\n",
        "import matplotlib.pyplot as plt\n",
        "%matplotlib inline\n",
        "\n",
        "print('Running TensorFlow version %s' % (tf.__version__))\n",
        "try:\n",
        "  tf.enable_eager_execution()\n",
        "  print('Eager mode activated.')\n",
        "except ValueError:\n",
        "  print('Already running in Eager mode')"
      ],
      "execution_count": 1,
      "outputs": [
        {
          "output_type": "stream",
          "text": [
            "Running TensorFlow version 1.10.1\n",
            "Eager mode activated.\n"
          ],
          "name": "stdout"
        }
      ]
    },
    {
      "metadata": {
        "id": "yVL1OwL7aH8c",
        "colab_type": "text"
      },
      "cell_type": "markdown",
      "source": [
        "##From Feedforward to Recurrent Models\n",
        "\n",
        "RNNs generalize feedforward networks (FFNs) to be able to work with sequential data. FFNs take an input (e.g. an image) and immediately produce an output (e.g. a digit class). RNNs, on the other hand, consider the data sequentially and remember what they have seen in the past in order to make new predictions about the future observations.\n",
        "\n",
        "To understand this distinction, imagine we want to label words as the part-of-speech categories that they belong to: E.g. for the input sentence 'I want a duck' and 'He had to duck', we want our model to predict that duck is a `Noun` in the first sentence and a `Verb` in the second. To do this successfully, the model needs to be aware of the surrounding context. However, if we feed a FFN model only one word at a time, how could it know the difference? If we want to feed it all the words at once, how do we deal with the fact that sentences are of different lengths?\n",
        "\n",
        "RNNs solve this issue by processing the sentence word-by-word, and maintaining an internal **state** summarizing what it has seen so far. This applies not only to words, but also to phonemes in speech, or even, as we will see, elements of a time-series.\n",
        "\n"
      ]
    },
    {
      "metadata": {
        "id": "zUqww79L6Ot-",
        "colab_type": "text"
      },
      "cell_type": "markdown",
      "source": [
        "In the feedforward models we've seen before, the input $x$ is mapped to an intermediate hidden layer $h$ as follows:\n",
        "\n",
        "$h = \\sigma(W_{xy}x + b)$\n",
        "\n",
        "where $\\sigma$ is some non-linear activation function like ReLU or tanh.  We can then make a prediction based on $h$, or we can add another layer, etc.\n",
        "\n",
        "RNNs generalize this idea to a sequence of inputs $\\mathcal{X} = {x_1, x_2, ...}$ by maintaining a sequence of state vectors $h_t$, one for every time-step $t$, as follows:\n",
        "\n",
        "$h_t = \\sigma(W_{hh}h_{t-1} + W_{xh}x_t + b)$\n",
        "\n",
        "We can again use each $h_t$ to predict an output for that time-step $y_t$ (e.g. the part-of-speech of each word in a sentence), or we can just make one final prediction at the end (e.g. the topic of a document processed as a sequence of words).\n",
        "\n",
        "**NOTE**: The weight subscript $W_{xz}$ is used to indicate a mapping from layer $x$ to layer $z$.\n",
        "\n",
        "**QUESTIONS**\n",
        "* How are FFNs and RNNs **similar**?\n",
        "* How are they **different**?\n",
        "* Why do we call RNNs \"recurrent\"?"
      ]
    },
    {
      "metadata": {
        "id": "9wuobtH3aB59",
        "colab_type": "text"
      },
      "cell_type": "markdown",
      "source": [
        "##Modeling General Time-Series\n",
        "\n",
        "We will train an RNN to model a time-series as a first step. A **time-series** is a series of data-points ordered over discrete time-steps. Examples include the hourly temperature of Stellenbosch over a month or a year, the market price of some asset (like a company's stock) over time, and so forth. We will generate a **sinusoidal time-series** (with or without noise) as a toy example, and then train a tiny RNN model with only 5 parameters on this data."
      ]
    },
    {
      "metadata": {
        "id": "oAQIXUL-oje2",
        "colab_type": "text"
      },
      "cell_type": "markdown",
      "source": [
        "###Create some artificial data"
      ]
    },
    {
      "metadata": {
        "id": "412j4v-RIfYR",
        "colab_type": "code",
        "colab": {
          "base_uri": "https://localhost:8080/",
          "height": 226
        },
        "outputId": "368c5ef0-8bc5-42ec-97f7-2fef30388eff"
      },
      "cell_type": "code",
      "source": [
        "#@title Create sinusoidal data {run: \"auto\"}\n",
        "steps_per_cycle = 20 #@param { type: \"slider\", min:1, max:100, step:1 }\n",
        "number_of_cycles = 176 #@param { type: \"slider\", min:1, max:1000, step:1 }\n",
        "noise_factor = 0.1 #@param { type: \"slider\", min:0, max:1, step:0.1 }\n",
        "plot_num_cycles = 23 #@param { type: \"slider\", min:1, max:50, step:1 }\n",
        "\n",
        "seq_len = steps_per_cycle * number_of_cycles\n",
        "t = np.arange(seq_len)\n",
        "sin_t = np.sin(2 * np.pi / steps_per_cycle * t + noise_factor * np.random.uniform(-1.0, +1.0, seq_len))\n",
        "sin_t_clean = np.sin(2 * np.pi / steps_per_cycle * t)\n",
        "\n",
        "upto = plot_num_cycles * steps_per_cycle\n",
        "fig = plt.figure(figsize=(15,3))\n",
        "plt.plot(t[:upto], sin_t[:upto])\n",
        "plt.title(\"Showing first {} cycles.\".format(plot_num_cycles))\n",
        "plt.show()\n",
        "\n",
        "#both = np.column_stack((t, sin_t))\n",
        "#print(\"both.shape = {}\".format(both.shape))\n",
        "\n",
        "#print(\"both[:steps_per_cycle, :steps_per_cycle]\")\n",
        "#print(both[:steps_per_cycle,:steps_per_cycle])"
      ],
      "execution_count": 0,
      "outputs": [
        {
          "output_type": "display_data",
          "data": {
            "image/png": "[encoded data removed]",
            "text/plain": [
              "<matplotlib.figure.Figure at 0x7efdfeb62350>"
            ]
          },
          "metadata": {
            "tags": []
          }
        }
      ]
    },
    {
      "metadata": {
        "id": "Eaypg9gKos21",
        "colab_type": "text"
      },
      "cell_type": "markdown",
      "source": [
        "**TASK**: Adjust the parameters above to generate data with different properties.\n",
        "\n",
        "Now we pack the data into train and test batches. Note that while RNNs can in theory learn the dependencies across all inputs received so far (using an algorithm called **backpropagation through time**, or BPTT), in practice they are trained using an algorithm called **truncated BPTT** where we truncate the inputs to only the last N symbols (this is the `truncated_seq_len` variable below)\n",
        "\n",
        "**QUESTION**: What are the pros and cons of truncating the training data in this way?"
      ]
    },
    {
      "metadata": {
        "id": "RtwMLLCNorw4",
        "colab_type": "code",
        "colab": {
          "base_uri": "https://localhost:8080/",
          "height": 68
        },
        "outputId": "19ba8ae3-131c-47c0-d075-df807cb9594b"
      },
      "cell_type": "code",
      "source": [
        "#@title Pack truncated sequence data {run: \"auto\"}\n",
        "\n",
        "def pack_truncated_data(data, num_prev = 100):  \n",
        "    X, Y = [], []\n",
        "    for i in range(len(data) - num_prev):\n",
        "      X.append(data[i : i + num_prev])\n",
        "      Y.append(data[i + num_prev])\n",
        "    # NOTE: We expand the last dimension, but this doesn't actually change the array.\n",
        "    #X, Y = np.expand_dims(X, axis=2), np.expand_dims(Y, axis=1)\n",
        "    X, Y = np.array(X)[:,:,np.newaxis], np.array(Y)[:,np.newaxis]\n",
        "    return X, Y\n",
        "\n",
        "# We only consider this many previous data points\n",
        "truncated_seq_len = 5 #@param { type: \"slider\", min:1, max:10, step:1 }\n",
        "test_split = 0.25  # Fraction of total data to keep out as test data\n",
        "\n",
        "# We use only the sin_t values\n",
        "data = sin_t\n",
        "data_len = data.shape[0]\n",
        "num_train = int(data_len * (1 - test_split))\n",
        "\n",
        "train_data = data[:num_train]\n",
        "test_data = data[num_train:]\n",
        "X_train, y_train = pack_truncated_data(train_data, num_prev=truncated_seq_len)\n",
        "X_test, y_test = pack_truncated_data(test_data, num_prev=truncated_seq_len)  \n",
        "\n",
        "print(\"Generated training/test data with shapes\\nX_train: {}, y_train: {}\\nX_test: {}, y_test: {}. \".format(\n",
        "    X_train.shape, y_train.shape, X_test.shape, y_test.shape))\n"
      ],
      "execution_count": 0,
      "outputs": [
        {
          "output_type": "stream",
          "text": [
            "Generated training/test data with shapes\n",
            "X_train: (2635, 5, 1), y_train: (2635, 1)\n",
            "X_test: (875, 5, 1), y_test: (875, 1). \n"
          ],
          "name": "stdout"
        }
      ]
    },
    {
      "metadata": {
        "id": "vgVxLBp8CaN6",
        "colab_type": "text"
      },
      "cell_type": "markdown",
      "source": [
        "**QUESTION**: Can you explain what the different dimensions are for in **X** and **y**?"
      ]
    },
    {
      "metadata": {
        "id": "DTuJOcoNDIFR",
        "colab_type": "text"
      },
      "cell_type": "markdown",
      "source": [
        "###Aside: Backpropagation-through-Time and Vanishing and Exploding Gradients\n",
        "\n",
        "TODO(sgouws)"
      ]
    },
    {
      "metadata": {
        "id": "-o3qjqeZpLjN",
        "colab_type": "text"
      },
      "cell_type": "markdown",
      "source": [
        "###Build a tiny RNN in Keras"
      ]
    },
    {
      "metadata": {
        "id": "mEobTD6spOWx",
        "colab_type": "code",
        "colab": {}
      },
      "cell_type": "code",
      "source": [
        "def define_model(truncated_seq_len, \n",
        "                 batch_size = None, \n",
        "                 stateful = False):\n",
        "    \n",
        "    in_out_neurons = 1\n",
        "    hidden_neurons = 1\n",
        "    \n",
        "    '''\n",
        "    # This approach uses Keras's Functional API to build the model.\n",
        "    # Notice how we have handles to the intermediate layers afterwards.    \n",
        "    input_layer = tf.keras.layers.Input(\n",
        "        batch_shape=(batch_size, truncated, in_out_neurons),\n",
        "        name='input_layer') \n",
        "    hidden_layer = tf.keras.layers.SimpleRNN(\n",
        "        hidden_neurons, \n",
        "        return_sequences=False,\n",
        "        stateful = stateful, # Maintain state from one training instance to the next\n",
        "        name='hidden_layer')(input_layer)\n",
        "    output_layer = tf.keras.layers.Dense(\n",
        "        in_out_neurons, \n",
        "        name='output_layer')(hidden_layer)\n",
        "    model = tf.keras.Model(inputs=[input_layer], outputs=[output_layer])\n",
        "\n",
        "    '''\n",
        "    \n",
        "    # This approach uses Keras's Sequential API to build the model\n",
        "    # Note that we don't specify a specific input layer, but we do need to specify the input shape.\n",
        "    model = tf.keras.models.Sequential()\n",
        "    model.add(tf.keras.layers.SimpleRNN(\n",
        "        # We need to specify the input_shape *without* batch_size (it is inferred)\n",
        "        input_shape=(truncated_seq_len, in_out_neurons),\n",
        "        units=hidden_neurons, \n",
        "        return_sequences=False,\n",
        "        stateful=stateful, # Maintain state from one training instance to the next\n",
        "        name='hidden_layer'))\n",
        "    model.add(tf.keras.layers.Dense(\n",
        "        in_out_neurons, \n",
        "        name='output_layer'))\n",
        "\n",
        "    model.compile(loss=\"mean_squared_error\", \n",
        "                  optimizer=tf.train.RMSPropOptimizer(learning_rate=1e-3))\n",
        "    \n",
        "    return model #, (input_layer, hidden_layer, output_layer)\n"
      ],
      "execution_count": 0,
      "outputs": []
    },
    {
      "metadata": {
        "id": "ONvBy4AopTrF",
        "colab_type": "code",
        "colab": {
          "base_uri": "https://localhost:8080/",
          "height": 204
        },
        "outputId": "fc6e8340-3ebe-4e32-d7e0-771a1a261bb2"
      },
      "cell_type": "code",
      "source": [
        "# The Functional Way\n",
        "#model, (input_layer, hidden_layer, output_layer) = define_model(truncated_seq_len = X_train.shape[1])\n",
        "model = define_model(truncated_seq_len = X_train.shape[1])\n",
        "\n",
        "model.summary()"
      ],
      "execution_count": 0,
      "outputs": [
        {
          "output_type": "stream",
          "text": [
            "_________________________________________________________________\n",
            "Layer (type)                 Output Shape              Param #   \n",
            "=================================================================\n",
            "hidden_layer (SimpleRNN)     (None, 1)                 3         \n",
            "_________________________________________________________________\n",
            "output_layer (Dense)         (None, 1)                 2         \n",
            "=================================================================\n",
            "Total params: 5\n",
            "Trainable params: 5\n",
            "Non-trainable params: 0\n",
            "_________________________________________________________________\n"
          ],
          "name": "stdout"
        }
      ]
    },
    {
      "metadata": {
        "id": "ddb6_04dfZvn",
        "colab_type": "text"
      },
      "cell_type": "markdown",
      "source": [
        "**NOTE**: You need to re-run the above cell every time after training to reset the model weights!"
      ]
    },
    {
      "metadata": {
        "id": "hD94X5iQc8Jg",
        "colab_type": "text"
      },
      "cell_type": "markdown",
      "source": [
        "###Train the tiny RNN\n",
        "Now let's train the model. This may take a few minutes (it takes much longer if you increase `truncated_seq_len`). Set `verbose=1` **before** you run the cell to see the intermediate output as the model is training. Set it to 0 if you don't want any output."
      ]
    },
    {
      "metadata": {
        "id": "xumvRz2lrPus",
        "colab_type": "code",
        "colab": {
          "base_uri": "https://localhost:8080/",
          "height": 5117
        },
        "outputId": "1be1ec27-e054-481b-ae68-0dc8ebb65a05"
      },
      "cell_type": "code",
      "source": [
        "patience = 5\n",
        "train_history = model.fit(X_train, y_train, batch_size=600, epochs=1000, \n",
        "                          verbose=1, validation_split=0.05,\n",
        "                          callbacks=[tf.keras.callbacks.EarlyStopping(monitor='val_loss', patience=patience, verbose=1)])"
      ],
      "execution_count": 0,
      "outputs": [
        {
          "output_type": "stream",
          "text": [
            "Train on 2503 samples, validate on 132 samples\n",
            "Epoch 1/1000\n",
            "2503/2503 [==============================] - 0s 58us/step - loss: 0.3582 - val_loss: 0.3518\n",
            "Epoch 2/1000\n",
            "2503/2503 [==============================] - 0s 50us/step - loss: 0.3571 - val_loss: 0.3505\n",
            "Epoch 3/1000\n",
            "2503/2503 [==============================] - 0s 52us/step - loss: 0.3557 - val_loss: 0.3490\n",
            "Epoch 4/1000\n",
            "2503/2503 [==============================] - 0s 52us/step - loss: 0.3540 - val_loss: 0.3472\n",
            "Epoch 5/1000\n",
            "2503/2503 [==============================] - 0s 54us/step - loss: 0.3521 - val_loss: 0.3450\n",
            "Epoch 6/1000\n",
            "2503/2503 [==============================] - 0s 52us/step - loss: 0.3498 - val_loss: 0.3426\n",
            "Epoch 7/1000\n",
            "2503/2503 [==============================] - 0s 49us/step - loss: 0.3472 - val_loss: 0.3399\n",
            "Epoch 8/1000\n",
            "2503/2503 [==============================] - 0s 59us/step - loss: 0.3443 - val_loss: 0.3369\n",
            "Epoch 9/1000\n",
            "2503/2503 [==============================] - 0s 53us/step - loss: 0.3412 - val_loss: 0.3337\n",
            "Epoch 10/1000\n",
            "2503/2503 [==============================] - 0s 53us/step - loss: 0.3379 - val_loss: 0.3303\n",
            "Epoch 11/1000\n",
            "2503/2503 [==============================] - 0s 57us/step - loss: 0.3344 - val_loss: 0.3267\n",
            "Epoch 12/1000\n",
            "2503/2503 [==============================] - 0s 54us/step - loss: 0.3309 - val_loss: 0.3234\n",
            "Epoch 13/1000\n",
            "2503/2503 [==============================] - 0s 54us/step - loss: 0.3274 - val_loss: 0.3198\n",
            "Epoch 14/1000\n",
            "2503/2503 [==============================] - 0s 49us/step - loss: 0.3238 - val_loss: 0.3164\n",
            "Epoch 15/1000\n",
            "2503/2503 [==============================] - 0s 52us/step - loss: 0.3202 - val_loss: 0.3127\n",
            "Epoch 16/1000\n",
            "2503/2503 [==============================] - 0s 54us/step - loss: 0.3165 - val_loss: 0.3092\n",
            "Epoch 17/1000\n",
            "2503/2503 [==============================] - 0s 58us/step - loss: 0.3128 - val_loss: 0.3056\n",
            "Epoch 18/1000\n",
            "2503/2503 [==============================] - 0s 54us/step - loss: 0.3091 - val_loss: 0.3017\n",
            "Epoch 19/1000\n",
            "2503/2503 [==============================] - 0s 57us/step - loss: 0.3054 - val_loss: 0.2979\n",
            "Epoch 20/1000\n",
            "2503/2503 [==============================] - 0s 55us/step - loss: 0.3016 - val_loss: 0.2943\n",
            "Epoch 21/1000\n",
            "2503/2503 [==============================] - 0s 55us/step - loss: 0.2979 - val_loss: 0.2908\n",
            "Epoch 22/1000\n",
            "2503/2503 [==============================] - 0s 57us/step - loss: 0.2942 - val_loss: 0.2872\n",
            "Epoch 23/1000\n",
            "2503/2503 [==============================] - 0s 57us/step - loss: 0.2904 - val_loss: 0.2836\n",
            "Epoch 24/1000\n",
            "2503/2503 [==============================] - 0s 53us/step - loss: 0.2866 - val_loss: 0.2797\n",
            "Epoch 25/1000\n",
            "2503/2503 [==============================] - 0s 55us/step - loss: 0.2828 - val_loss: 0.2759\n",
            "Epoch 26/1000\n",
            "2503/2503 [==============================] - 0s 59us/step - loss: 0.2790 - val_loss: 0.2719\n",
            "Epoch 27/1000\n",
            "2503/2503 [==============================] - 0s 53us/step - loss: 0.2752 - val_loss: 0.2681\n",
            "Epoch 28/1000\n",
            "2503/2503 [==============================] - 0s 52us/step - loss: 0.2713 - val_loss: 0.2642\n",
            "Epoch 29/1000\n",
            "2503/2503 [==============================] - 0s 55us/step - loss: 0.2676 - val_loss: 0.2604\n",
            "Epoch 30/1000\n",
            "2503/2503 [==============================] - 0s 50us/step - loss: 0.2637 - val_loss: 0.2568\n",
            "Epoch 31/1000\n",
            "2503/2503 [==============================] - 0s 53us/step - loss: 0.2599 - val_loss: 0.2532\n",
            "Epoch 32/1000\n",
            "2503/2503 [==============================] - 0s 52us/step - loss: 0.2560 - val_loss: 0.2495\n",
            "Epoch 33/1000\n",
            "2503/2503 [==============================] - 0s 50us/step - loss: 0.2522 - val_loss: 0.2457\n",
            "Epoch 34/1000\n",
            "2503/2503 [==============================] - 0s 53us/step - loss: 0.2484 - val_loss: 0.2418\n",
            "Epoch 35/1000\n",
            "2503/2503 [==============================] - 0s 63us/step - loss: 0.2445 - val_loss: 0.2380\n",
            "Epoch 36/1000\n",
            "2503/2503 [==============================] - 0s 54us/step - loss: 0.2407 - val_loss: 0.2344\n",
            "Epoch 37/1000\n",
            "2503/2503 [==============================] - 0s 50us/step - loss: 0.2369 - val_loss: 0.2304\n",
            "Epoch 38/1000\n",
            "2503/2503 [==============================] - 0s 54us/step - loss: 0.2330 - val_loss: 0.2267\n",
            "Epoch 39/1000\n",
            "2503/2503 [==============================] - 0s 49us/step - loss: 0.2293 - val_loss: 0.2228\n",
            "Epoch 40/1000\n",
            "2503/2503 [==============================] - 0s 55us/step - loss: 0.2255 - val_loss: 0.2191\n",
            "Epoch 41/1000\n",
            "2503/2503 [==============================] - 0s 53us/step - loss: 0.2217 - val_loss: 0.2154\n",
            "Epoch 42/1000\n",
            "2503/2503 [==============================] - 0s 50us/step - loss: 0.2179 - val_loss: 0.2118\n",
            "Epoch 43/1000\n",
            "2503/2503 [==============================] - 0s 53us/step - loss: 0.2141 - val_loss: 0.2082\n",
            "Epoch 44/1000\n",
            "2503/2503 [==============================] - 0s 57us/step - loss: 0.2103 - val_loss: 0.2044\n",
            "Epoch 45/1000\n",
            "2503/2503 [==============================] - 0s 53us/step - loss: 0.2066 - val_loss: 0.2008\n",
            "Epoch 46/1000\n",
            "2503/2503 [==============================] - 0s 54us/step - loss: 0.2028 - val_loss: 0.1971\n",
            "Epoch 47/1000\n",
            "2503/2503 [==============================] - 0s 52us/step - loss: 0.1991 - val_loss: 0.1934\n",
            "Epoch 48/1000\n",
            "2503/2503 [==============================] - 0s 54us/step - loss: 0.1954 - val_loss: 0.1898\n",
            "Epoch 49/1000\n",
            "2503/2503 [==============================] - 0s 50us/step - loss: 0.1917 - val_loss: 0.1860\n",
            "Epoch 50/1000\n",
            "2503/2503 [==============================] - 0s 54us/step - loss: 0.1880 - val_loss: 0.1824\n",
            "Epoch 51/1000\n",
            "2503/2503 [==============================] - 0s 51us/step - loss: 0.1844 - val_loss: 0.1788\n",
            "Epoch 52/1000\n",
            "2503/2503 [==============================] - 0s 54us/step - loss: 0.1807 - val_loss: 0.1752\n",
            "Epoch 53/1000\n",
            "2503/2503 [==============================] - 0s 54us/step - loss: 0.1771 - val_loss: 0.1715\n",
            "Epoch 54/1000\n",
            "2503/2503 [==============================] - 0s 54us/step - loss: 0.1734 - val_loss: 0.1678\n",
            "Epoch 55/1000\n",
            "2503/2503 [==============================] - 0s 52us/step - loss: 0.1698 - val_loss: 0.1642\n",
            "Epoch 56/1000\n",
            "2503/2503 [==============================] - 0s 53us/step - loss: 0.1663 - val_loss: 0.1606\n",
            "Epoch 57/1000\n",
            "2503/2503 [==============================] - 0s 52us/step - loss: 0.1627 - val_loss: 0.1573\n",
            "Epoch 58/1000\n",
            "2503/2503 [==============================] - 0s 55us/step - loss: 0.1591 - val_loss: 0.1538\n",
            "Epoch 59/1000\n",
            "2503/2503 [==============================] - 0s 51us/step - loss: 0.1557 - val_loss: 0.1505\n",
            "Epoch 60/1000\n",
            "2503/2503 [==============================] - 0s 53us/step - loss: 0.1522 - val_loss: 0.1471\n",
            "Epoch 61/1000\n",
            "2503/2503 [==============================] - 0s 49us/step - loss: 0.1488 - val_loss: 0.1438\n",
            "Epoch 62/1000\n",
            "2503/2503 [==============================] - 0s 51us/step - loss: 0.1454 - val_loss: 0.1403\n",
            "Epoch 63/1000\n",
            "2503/2503 [==============================] - 0s 59us/step - loss: 0.1420 - val_loss: 0.1371\n",
            "Epoch 64/1000\n",
            "2503/2503 [==============================] - 0s 50us/step - loss: 0.1387 - val_loss: 0.1338\n",
            "Epoch 65/1000\n",
            "2503/2503 [==============================] - 0s 55us/step - loss: 0.1354 - val_loss: 0.1304\n",
            "Epoch 66/1000\n",
            "2503/2503 [==============================] - 0s 55us/step - loss: 0.1321 - val_loss: 0.1273\n",
            "Epoch 67/1000\n",
            "2503/2503 [==============================] - 0s 52us/step - loss: 0.1288 - val_loss: 0.1240\n",
            "Epoch 68/1000\n",
            "2503/2503 [==============================] - 0s 50us/step - loss: 0.1256 - val_loss: 0.1209\n",
            "Epoch 69/1000\n",
            "2503/2503 [==============================] - 0s 51us/step - loss: 0.1224 - val_loss: 0.1177\n",
            "Epoch 70/1000\n",
            "2503/2503 [==============================] - 0s 50us/step - loss: 0.1193 - val_loss: 0.1147\n",
            "Epoch 71/1000\n",
            "2503/2503 [==============================] - 0s 53us/step - loss: 0.1162 - val_loss: 0.1116\n",
            "Epoch 72/1000\n",
            "2503/2503 [==============================] - 0s 61us/step - loss: 0.1132 - val_loss: 0.1086\n",
            "Epoch 73/1000\n",
            "2503/2503 [==============================] - 0s 49us/step - loss: 0.1102 - val_loss: 0.1057\n",
            "Epoch 74/1000\n",
            "2503/2503 [==============================] - 0s 54us/step - loss: 0.1072 - val_loss: 0.1030\n",
            "Epoch 75/1000\n",
            "2503/2503 [==============================] - 0s 52us/step - loss: 0.1042 - val_loss: 0.1002\n",
            "Epoch 76/1000\n",
            "2503/2503 [==============================] - 0s 51us/step - loss: 0.1014 - val_loss: 0.0973\n",
            "Epoch 77/1000\n",
            "2503/2503 [==============================] - 0s 53us/step - loss: 0.0985 - val_loss: 0.0944\n",
            "Epoch 78/1000\n",
            "2503/2503 [==============================] - 0s 51us/step - loss: 0.0957 - val_loss: 0.0917\n",
            "Epoch 79/1000\n",
            "2503/2503 [==============================] - 0s 50us/step - loss: 0.0929 - val_loss: 0.0890\n",
            "Epoch 80/1000\n",
            "2503/2503 [==============================] - 0s 52us/step - loss: 0.0902 - val_loss: 0.0866\n",
            "Epoch 81/1000\n",
            "2503/2503 [==============================] - 0s 64us/step - loss: 0.0876 - val_loss: 0.0838\n",
            "Epoch 82/1000\n",
            "2503/2503 [==============================] - 0s 52us/step - loss: 0.0850 - val_loss: 0.0814\n",
            "Epoch 83/1000\n",
            "2503/2503 [==============================] - 0s 54us/step - loss: 0.0825 - val_loss: 0.0788\n",
            "Epoch 84/1000\n",
            "2503/2503 [==============================] - 0s 53us/step - loss: 0.0800 - val_loss: 0.0764\n",
            "Epoch 85/1000\n",
            "2503/2503 [==============================] - 0s 49us/step - loss: 0.0775 - val_loss: 0.0740\n",
            "Epoch 86/1000\n",
            "2503/2503 [==============================] - 0s 55us/step - loss: 0.0752 - val_loss: 0.0717\n",
            "Epoch 87/1000\n",
            "2503/2503 [==============================] - 0s 53us/step - loss: 0.0728 - val_loss: 0.0693\n",
            "Epoch 88/1000\n",
            "2503/2503 [==============================] - 0s 53us/step - loss: 0.0705 - val_loss: 0.0673\n",
            "Epoch 89/1000\n",
            "2503/2503 [==============================] - 0s 51us/step - loss: 0.0683 - val_loss: 0.0652\n",
            "Epoch 90/1000\n",
            "2503/2503 [==============================] - 0s 54us/step - loss: 0.0662 - val_loss: 0.0631\n",
            "Epoch 91/1000\n",
            "2503/2503 [==============================] - 0s 63us/step - loss: 0.0641 - val_loss: 0.0610\n",
            "Epoch 92/1000\n",
            "2503/2503 [==============================] - 0s 52us/step - loss: 0.0620 - val_loss: 0.0589\n",
            "Epoch 93/1000\n",
            "2503/2503 [==============================] - 0s 51us/step - loss: 0.0600 - val_loss: 0.0571\n",
            "Epoch 94/1000\n",
            "2503/2503 [==============================] - 0s 54us/step - loss: 0.0582 - val_loss: 0.0554\n",
            "Epoch 95/1000\n",
            "2503/2503 [==============================] - 0s 51us/step - loss: 0.0564 - val_loss: 0.0538\n",
            "Epoch 96/1000\n",
            "2503/2503 [==============================] - 0s 53us/step - loss: 0.0546 - val_loss: 0.0521\n",
            "Epoch 97/1000\n",
            "2503/2503 [==============================] - 0s 53us/step - loss: 0.0529 - val_loss: 0.0503\n",
            "Epoch 98/1000\n",
            "2503/2503 [==============================] - 0s 51us/step - loss: 0.0513 - val_loss: 0.0488\n",
            "Epoch 99/1000\n",
            "2503/2503 [==============================] - 0s 57us/step - loss: 0.0497 - val_loss: 0.0472\n",
            "Epoch 100/1000\n",
            "2503/2503 [==============================] - 0s 59us/step - loss: 0.0482 - val_loss: 0.0458\n",
            "Epoch 101/1000\n",
            "2503/2503 [==============================] - 0s 49us/step - loss: 0.0467 - val_loss: 0.0444\n",
            "Epoch 102/1000\n",
            "2503/2503 [==============================] - 0s 55us/step - loss: 0.0453 - val_loss: 0.0430\n",
            "Epoch 103/1000\n",
            "2503/2503 [==============================] - 0s 52us/step - loss: 0.0440 - val_loss: 0.0419\n",
            "Epoch 104/1000\n",
            "2503/2503 [==============================] - 0s 52us/step - loss: 0.0428 - val_loss: 0.0407\n",
            "Epoch 105/1000\n",
            "2503/2503 [==============================] - 0s 51us/step - loss: 0.0416 - val_loss: 0.0397\n",
            "Epoch 106/1000\n",
            "2503/2503 [==============================] - 0s 51us/step - loss: 0.0405 - val_loss: 0.0386\n",
            "Epoch 107/1000\n",
            "2503/2503 [==============================] - 0s 50us/step - loss: 0.0395 - val_loss: 0.0379\n",
            "Epoch 108/1000\n",
            "2503/2503 [==============================] - 0s 52us/step - loss: 0.0386 - val_loss: 0.0370\n",
            "Epoch 109/1000\n",
            "2503/2503 [==============================] - 0s 59us/step - loss: 0.0377 - val_loss: 0.0361\n",
            "Epoch 110/1000\n",
            "2503/2503 [==============================] - 0s 49us/step - loss: 0.0369 - val_loss: 0.0354\n",
            "Epoch 111/1000\n",
            "2503/2503 [==============================] - 0s 53us/step - loss: 0.0362 - val_loss: 0.0347\n",
            "Epoch 112/1000\n",
            "2503/2503 [==============================] - 0s 52us/step - loss: 0.0355 - val_loss: 0.0341\n",
            "Epoch 113/1000\n",
            "2503/2503 [==============================] - 0s 52us/step - loss: 0.0350 - val_loss: 0.0336\n",
            "Epoch 114/1000\n",
            "2503/2503 [==============================] - 0s 54us/step - loss: 0.0344 - val_loss: 0.0332\n",
            "Epoch 115/1000\n",
            "2503/2503 [==============================] - 0s 54us/step - loss: 0.0340 - val_loss: 0.0329\n",
            "Epoch 116/1000\n",
            "2503/2503 [==============================] - 0s 55us/step - loss: 0.0336 - val_loss: 0.0326\n",
            "Epoch 117/1000\n",
            "2503/2503 [==============================] - 0s 55us/step - loss: 0.0333 - val_loss: 0.0323\n",
            "Epoch 118/1000\n",
            "2503/2503 [==============================] - 0s 58us/step - loss: 0.0330 - val_loss: 0.0321\n",
            "Epoch 119/1000\n",
            "2503/2503 [==============================] - 0s 51us/step - loss: 0.0328 - val_loss: 0.0319\n",
            "Epoch 120/1000\n",
            "2503/2503 [==============================] - 0s 56us/step - loss: 0.0326 - val_loss: 0.0318\n",
            "Epoch 121/1000\n",
            "2503/2503 [==============================] - 0s 54us/step - loss: 0.0324 - val_loss: 0.0317\n",
            "Epoch 122/1000\n",
            "2503/2503 [==============================] - 0s 53us/step - loss: 0.0323 - val_loss: 0.0316\n",
            "Epoch 123/1000\n",
            "2503/2503 [==============================] - 0s 51us/step - loss: 0.0322 - val_loss: 0.0315\n",
            "Epoch 124/1000\n",
            "2503/2503 [==============================] - 0s 55us/step - loss: 0.0322 - val_loss: 0.0314\n",
            "Epoch 125/1000\n",
            "2503/2503 [==============================] - 0s 61us/step - loss: 0.0321 - val_loss: 0.0314\n",
            "Epoch 126/1000\n",
            "2503/2503 [==============================] - 0s 53us/step - loss: 0.0320 - val_loss: 0.0313\n",
            "Epoch 127/1000\n",
            "2503/2503 [==============================] - 0s 59us/step - loss: 0.0320 - val_loss: 0.0312\n",
            "Epoch 128/1000\n",
            "2503/2503 [==============================] - 0s 54us/step - loss: 0.0319 - val_loss: 0.0311\n",
            "Epoch 129/1000\n",
            "2503/2503 [==============================] - 0s 52us/step - loss: 0.0319 - val_loss: 0.0311\n",
            "Epoch 130/1000\n",
            "2503/2503 [==============================] - 0s 55us/step - loss: 0.0318 - val_loss: 0.0311\n",
            "Epoch 131/1000\n",
            "2503/2503 [==============================] - 0s 53us/step - loss: 0.0318 - val_loss: 0.0310\n",
            "Epoch 132/1000\n",
            "2503/2503 [==============================] - 0s 54us/step - loss: 0.0318 - val_loss: 0.0310\n",
            "Epoch 133/1000\n",
            "2503/2503 [==============================] - 0s 51us/step - loss: 0.0318 - val_loss: 0.0310\n",
            "Epoch 134/1000\n",
            "2503/2503 [==============================] - 0s 54us/step - loss: 0.0317 - val_loss: 0.0310\n",
            "Epoch 135/1000\n",
            "2503/2503 [==============================] - 0s 50us/step - loss: 0.0317 - val_loss: 0.0310\n",
            "Epoch 136/1000\n",
            "2503/2503 [==============================] - 0s 58us/step - loss: 0.0317 - val_loss: 0.0309\n",
            "Epoch 137/1000\n",
            "2503/2503 [==============================] - 0s 51us/step - loss: 0.0317 - val_loss: 0.0309\n",
            "Epoch 138/1000\n",
            "2503/2503 [==============================] - 0s 55us/step - loss: 0.0317 - val_loss: 0.0309\n",
            "Epoch 139/1000\n",
            "2503/2503 [==============================] - 0s 55us/step - loss: 0.0316 - val_loss: 0.0309\n",
            "Epoch 140/1000\n",
            "2503/2503 [==============================] - 0s 52us/step - loss: 0.0316 - val_loss: 0.0309\n",
            "Epoch 141/1000\n",
            "2503/2503 [==============================] - 0s 56us/step - loss: 0.0316 - val_loss: 0.0308\n",
            "Epoch 142/1000\n",
            "2503/2503 [==============================] - 0s 52us/step - loss: 0.0316 - val_loss: 0.0308\n",
            "Epoch 143/1000\n",
            "2503/2503 [==============================] - 0s 54us/step - loss: 0.0316 - val_loss: 0.0308\n",
            "Epoch 144/1000\n",
            "2503/2503 [==============================] - 0s 51us/step - loss: 0.0316 - val_loss: 0.0308\n",
            "Epoch 145/1000\n",
            "2503/2503 [==============================] - 0s 58us/step - loss: 0.0316 - val_loss: 0.0308\n",
            "Epoch 146/1000\n",
            "2503/2503 [==============================] - 0s 61us/step - loss: 0.0316 - val_loss: 0.0308\n",
            "Epoch 147/1000\n",
            "2503/2503 [==============================] - 0s 55us/step - loss: 0.0316 - val_loss: 0.0309\n",
            "Epoch 148/1000\n",
            "2503/2503 [==============================] - 0s 54us/step - loss: 0.0316 - val_loss: 0.0308\n",
            "Epoch 149/1000\n",
            "2503/2503 [==============================] - 0s 52us/step - loss: 0.0316 - val_loss: 0.0308\n",
            "Epoch 00149: early stopping\n"
          ],
          "name": "stdout"
        }
      ]
    },
    {
      "metadata": {
        "id": "U9G1OHXoroBs",
        "colab_type": "code",
        "colab": {
          "base_uri": "https://localhost:8080/",
          "height": 349
        },
        "outputId": "9890dc9c-c797-499f-9750-55d63c40b379"
      },
      "cell_type": "code",
      "source": [
        "plt.figure(figsize=(15,5))\n",
        "\n",
        "for label in [\"loss\",\"val_loss\"]:\n",
        "    plt.plot(train_history.history[label], label=label)\n",
        "\n",
        "plt.ylabel(\"loss\")\n",
        "plt.xlabel(\"epoch\")\n",
        "plt.title(\"The final validation loss: {}\".format(train_history.history[\"val_loss\"][-1]))\n",
        "plt.legend()\n",
        "plt.show()"
      ],
      "execution_count": 0,
      "outputs": [
        {
          "output_type": "display_data",
          "data": {
            "image/png": "[encoded data removed]",
            "text/plain": [
              "<matplotlib.figure.Figure at 0x7efdf5c6e590>"
            ]
          },
          "metadata": {
            "tags": []
          }
        }
      ]
    },
    {
      "metadata": {
        "id": "Rs_-XnYhKl_N",
        "colab_type": "text"
      },
      "cell_type": "markdown",
      "source": [
        "Let's look at the parameters for the trained model."
      ]
    },
    {
      "metadata": {
        "id": "q4gtwBT7Kgh0",
        "colab_type": "code",
        "colab": {
          "base_uri": "https://localhost:8080/",
          "height": 71
        },
        "outputId": "58cbc67b-659d-4ef7-ba8a-605bf3f38614"
      },
      "cell_type": "code",
      "source": [
        "for layer in model.layers:\n",
        "  print(\"{}, {}\".format(layer.name, layer.get_weights()))"
      ],
      "execution_count": 0,
      "outputs": [
        {
          "output_type": "stream",
          "text": [
            "hidden_layer, [array([[0.37278685]], dtype=float32), array([[-0.5171897]], dtype=float32), array([0.00577175], dtype=float32)]\n",
            "output_layer, [array([[4.8811107]], dtype=float32), array([-0.01643791], dtype=float32)]\n"
          ],
          "name": "stdout"
        }
      ]
    },
    {
      "metadata": {
        "id": "bqFBu_dCsUqi",
        "colab_type": "text"
      },
      "cell_type": "markdown",
      "source": [
        "**QUESTIONs**: \n",
        "* Relate the above weights to the weights of the RNN, namely input-to-hidden, hidden-to-hidden, and hidden-to-output weights."
      ]
    },
    {
      "metadata": {
        "id": "0FHaN-VXfxEl",
        "colab_type": "text"
      },
      "cell_type": "markdown",
      "source": [
        "###Make predictions using the trained model"
      ]
    },
    {
      "metadata": {
        "id": "IQl_msx-4o3E",
        "colab_type": "code",
        "colab": {
          "base_uri": "https://localhost:8080/",
          "height": 231
        },
        "outputId": "cccbdced-c430-4ef5-fc43-4337eac9b8bb"
      },
      "cell_type": "code",
      "source": [
        "y_pred = model.predict(X_test[:100])\n",
        "plt.figure(figsize=(19,3))\n",
        "\n",
        "plt.plot(y_test[:100],label=\"true\")\n",
        "plt.plot(y_pred,label=\"predicted\")\n",
        "plt.legend()\n",
        "plt.show()"
      ],
      "execution_count": 0,
      "outputs": [
        {
          "output_type": "display_data",
          "data": {
            "image/png": "[encoded data removed]",
            "text/plain": [
              "<matplotlib.figure.Figure at 0x7efe45038e50>"
            ]
          },
          "metadata": {
            "tags": []
          }
        }
      ]
    },
    {
      "metadata": {
        "id": "MQj5P-FKOgqG",
        "colab_type": "text"
      },
      "cell_type": "markdown",
      "source": [
        "**QUESTION**: \n",
        "* Change the learning rate and retrain. What happens when it is too large? What happens when it is too small?\n",
        "* Change the `SimpleRNN` to `GRU` and `LSTM`. Notice the effect on the number of parameters."
      ]
    },
    {
      "metadata": {
        "id": "_totIpxmZ8_v",
        "colab_type": "text"
      },
      "cell_type": "markdown",
      "source": [
        "##Generating Shakespeare\n",
        "\n",
        "Now we'll train an RNN language model to generate Shakespearian English! A language model is trained to assign high probabilities to sequences of words or sentences that are well formed, and low probabilities to sequences which are not realistic. When the model is trained, one can use it to *generate* data that similar to that in the training set.\n",
        "\n",
        "Our data is now sequences of discrete symbols (words). But neural networks operate in continuous spaces, and so we need to take the discrete language data, and **embed** it in a continuous space. To do this, we'll simply break up the data into sequences of characters, and represent each character using a learned vector. This is a standard trick for processing text using neural networks. "
      ]
    },
    {
      "metadata": {
        "id": "9dFQtnDLZa3c",
        "colab_type": "text"
      },
      "cell_type": "markdown",
      "source": [
        "### Download and Preprocess the Data"
      ]
    },
    {
      "metadata": {
        "id": "Tmmjc-EigwCw",
        "colab_type": "text"
      },
      "cell_type": "markdown",
      "source": [
        "We first download the data and examine what it looks like:"
      ]
    },
    {
      "metadata": {
        "id": "hybIopOLPD4f",
        "colab_type": "code",
        "colab": {
          "base_uri": "https://localhost:8080/",
          "height": 791
        },
        "outputId": "f378e0e8-b51d-4bda-c550-7f235174fbf3"
      },
      "cell_type": "code",
      "source": [
        "context = ssl._create_unverified_context()\n",
        "shakespeare_url = 'https://cs.stanford.edu/people/karpathy/char-rnn/shakespeare_input.txt'\n",
        "\n",
        "data = urllib2.urlopen(shakespeare_url, context=context)\n",
        "all_text = data.read().lower()\n",
        "\n",
        "print(\"Downloaded Shakespeare data with {} characters.\".format(len(all_text)))\n",
        "print(\"FIRST 1000 CHARACTERS: \")\n",
        "print(all_text[:1000])"
      ],
      "execution_count": 4,
      "outputs": [
        {
          "output_type": "stream",
          "text": [
            "Downloaded Shakespeare data with 4573338 characters.\n",
            "FIRST 1000 CHARACTERS: \n",
            "first citizen:\n",
            "before we proceed any further, hear me speak.\n",
            "\n",
            "all:\n",
            "speak, speak.\n",
            "\n",
            "first citizen:\n",
            "you are all resolved rather to die than to famish?\n",
            "\n",
            "all:\n",
            "resolved. resolved.\n",
            "\n",
            "first citizen:\n",
            "first, you know caius marcius is chief enemy to the people.\n",
            "\n",
            "all:\n",
            "we know't, we know't.\n",
            "\n",
            "first citizen:\n",
            "let us kill him, and we'll have corn at our own price.\n",
            "is't a verdict?\n",
            "\n",
            "all:\n",
            "no more talking on't; let it be done: away, away!\n",
            "\n",
            "second citizen:\n",
            "one word, good citizens.\n",
            "\n",
            "first citizen:\n",
            "we are accounted poor citizens, the patricians good.\n",
            "what authority surfeits on would relieve us: if they\n",
            "would yield us but the superfluity, while it were\n",
            "wholesome, we might guess they relieved us humanely;\n",
            "but they think we are too dear: the leanness that\n",
            "afflicts us, the object of our misery, is as an\n",
            "inventory to particularise their abundance; our\n",
            "sufferance is a gain to them let us revenge this with\n",
            "our pikes, ere we become rakes: for the gods know i\n",
            "speak this in hunger for bread, not in thirst for revenge.\n",
            "\n",
            "\n"
          ],
          "name": "stdout"
        }
      ]
    },
    {
      "metadata": {
        "id": "jIuagNcdQLqM",
        "colab_type": "code",
        "colab": {}
      },
      "cell_type": "code",
      "source": [
        "training_text = all_text[:1000000] # Keep only first this many characters"
      ],
      "execution_count": 0,
      "outputs": []
    },
    {
      "metadata": {
        "id": "UK1x69AngvLJ",
        "colab_type": "text"
      },
      "cell_type": "markdown",
      "source": [
        "We now preprocess the text data as follows:\n",
        "\n",
        "1. Extract the vocabulary of all `vocab_size` unique characters appearing in the data.\n",
        "\n",
        "2. Assign each character a unique integer id in `0 <= id < vocab_size`. This is so we can map the characters to unique embedding vectors.\n",
        "\n",
        "3. Split the data into sequences (\"windows\") of `max_len` characters (the input to the model) followed by the next character as target. E.g. the sentence \"I saw a cat\" will get split into \"I saw\" and <space>, \"<space>saw<space>\" and \"a\", \"saw a\" and <space>, etc for `max_len=5`. To add some variation, we skip `step` characters between each sequence (i.e. we use a \"sliding window of `max_len` with stride `step`\")."
      ]
    },
    {
      "metadata": {
        "id": "zPvsNXKZPJKz",
        "colab_type": "code",
        "colab": {
          "base_uri": "https://localhost:8080/",
          "height": 73
        },
        "outputId": "dbe10c74-cdee-4860-9517-8384e8adbf92"
      },
      "cell_type": "code",
      "source": [
        "max_len = 30  # We only consider this many previous data points (characters)\n",
        "step = 3 # We start a new training sequence every `step` characters\n",
        "sentences = [] # This holds our extracted sequences\n",
        "next_chars = [] # This holds the targets (the follow-up characters)\n",
        "\n",
        "chars = sorted(list(set(training_text)))  # List of unique characters in the corpus\n",
        "vocab_size = len(chars)\n",
        "print('Number of unique characters: ', vocab_size)\n",
        "print(chars)\n",
        "\n",
        "# Construct dictionaries mapping unique characters to their index in `chars` and reverse\n",
        "char2index = dict((c, chars.index(c)) for c in chars)\n",
        "index2char = dict((chars.index(c), c) for c in chars)"
      ],
      "execution_count": 7,
      "outputs": [
        {
          "output_type": "stream",
          "text": [
            "Number of unique characters:  39\n",
            "['\\n', ' ', '!', '$', '&', \"'\", ',', '-', '.', '3', ':', ';', '?', 'a', 'b', 'c', 'd', 'e', 'f', 'g', 'h', 'i', 'j', 'k', 'l', 'm', 'n', 'o', 'p', 'q', 'r', 's', 't', 'u', 'v', 'w', 'x', 'y', 'z']\n"
          ],
          "name": "stdout"
        }
      ]
    },
    {
      "metadata": {
        "id": "O2PhcQwrc2JX",
        "colab_type": "text"
      },
      "cell_type": "markdown",
      "source": [
        "Now we encode the training data by mapping each character to its unique integer id."
      ]
    },
    {
      "metadata": {
        "id": "xY0qXZmVq8kW",
        "colab_type": "code",
        "colab": {
          "base_uri": "https://localhost:8080/",
          "height": 35
        },
        "outputId": "540d7311-5b56-4e66-ddf9-4194e7458cee"
      },
      "cell_type": "code",
      "source": [
        "for i in range(0, len(training_text) - max_len, step):\n",
        "    sentences.append([char2index[s] for s in training_text[i: i + max_len]])\n",
        "    next_chars.append([char2index[s] for s in training_text[i + max_len]])\n",
        "\n",
        "print('Number of extracted sequences:', len(sentences))"
      ],
      "execution_count": 8,
      "outputs": [
        {
          "output_type": "stream",
          "text": [
            "Number of extracted sequences: 333324\n"
          ],
          "name": "stdout"
        }
      ]
    },
    {
      "metadata": {
        "id": "PsZy6Kshc-Sp",
        "colab_type": "text"
      },
      "cell_type": "markdown",
      "source": [
        "This yields the following numpy arrays:"
      ]
    },
    {
      "metadata": {
        "id": "vhgSaP5ntDtq",
        "colab_type": "code",
        "colab": {}
      },
      "cell_type": "code",
      "source": [
        "X, Y = np.array(sentences, dtype=np.int64), np.array(next_chars, dtype=np.)"
      ],
      "execution_count": 0,
      "outputs": []
    },
    {
      "metadata": {
        "id": "sBR2LsXjmqTU",
        "colab_type": "text"
      },
      "cell_type": "markdown",
      "source": [
        "Let's take a look at the first example."
      ]
    },
    {
      "metadata": {
        "id": "2H1jobcrmwK7",
        "colab_type": "code",
        "colab": {
          "base_uri": "https://localhost:8080/",
          "height": 89
        },
        "outputId": "32e801ee-ae7b-4033-fa9d-6e2229aaf5bc"
      },
      "cell_type": "code",
      "source": [
        "print(\"X[0].shape = {}, Y[0].shape = {}\".format(X[0].shape, Y[0].shape))\n",
        "print(\"X[0]: \", X[0])\n",
        "print(\"Y[0]: \", Y[0])"
      ],
      "execution_count": 10,
      "outputs": [
        {
          "output_type": "stream",
          "text": [
            "X[0].shape = (30,), Y[0].shape = (1,)\n",
            "X[0]:  [18 21 30 31 32  1 15 21 32 21 38 17 26 10  0 14 17 18 27 30 17  1 35 17\n",
            "  1 28 30 27 15 17]\n",
            "Y[0]:  [17]\n"
          ],
          "name": "stdout"
        }
      ]
    },
    {
      "metadata": {
        "id": "tEQWEZlSZgpF",
        "colab_type": "text"
      },
      "cell_type": "markdown",
      "source": [
        "###Build the Model"
      ]
    },
    {
      "metadata": {
        "id": "rCysOLWadPHF",
        "colab_type": "text"
      },
      "cell_type": "markdown",
      "source": [
        "A language model estimates a probability distribution of sequences of symbols $\\mathbb{x}_{1:N} = (x_1, x_2, ..., x_N)$ (words or characters) by breaking up the joint probability into a sequence of conditional probabilities using the **chain-rule of probability**:\n",
        "\n",
        "$p(\\mathbb{x}_{1:N}) = \\Pi_1^N p(x_i | \\mathbb{x}_{1:i-1})$\n",
        "\n",
        "In other words, to model p(the cat sat on the mat), the model learns to estimate the probabilities for p(the), p(cat | the), p(sat | the, cat), and so forth, and multiplies them together. \n",
        "\n",
        "There are many different ways in which to estimate these individual probabilities. But we'll use an RNN! We'll therefore be modeling the  $p(x_i | \\mathbb{x}_{1:i-1})$ terms using an RNN conditioned on $\\mathbb{x}_{1:i-1}$."
      ]
    },
    {
      "metadata": {
        "id": "EDpVYEdcegEe",
        "colab_type": "text"
      },
      "cell_type": "markdown",
      "source": [
        "* We model these probabilities at the character-level, so we'll use an `Embedding` layer as the first layer of our model to map the character id's to real-valued embedding vectors. \n",
        "* Next, the RNN-core will map these sequences of character embeddings to a probability over all characters $p(x_i | \\mathbb{x}_{1:i-1}) \\in \\mathbb{R}^\\textrm{vocab_size}$ at every step of the sequence. To do this, the RNN will map the embeddings to a sequence of *hidden states*. We will then use a `Dense` layer to map from the RNN hidden state to an output distribution over the total number of characters using a `softmax` activation.\n",
        "\n",
        "We can do this with a few lines of code:"
      ]
    },
    {
      "metadata": {
        "id": "k8AxhQuePOCN",
        "colab_type": "code",
        "colab": {
          "base_uri": "https://localhost:8080/",
          "height": 251
        },
        "outputId": "b6d137ab-2877-4c32-9e1b-ac87ef1456d9"
      },
      "cell_type": "code",
      "source": [
        "embedding_dim = 32\n",
        "vocab_size = len(chars)\n",
        "dropout_probability = 0.0   # Drop probability, not keep_prob!\n",
        "\n",
        "model = tf.keras.models.Sequential()\n",
        "model.add(tf.keras.layers.Embedding(vocab_size, embedding_dim, input_length=max_len))\n",
        "model.add(tf.keras.layers.LSTM(128, input_shape=(max_len, len(chars))))\n",
        "if dropout_probability > 0.:\n",
        "  model.add(tf.keras.layers.Dropout(dropout_probability))\n",
        "model.add(tf.keras.layers.Dense(vocab_size, activation='softmax'))\n",
        "\n",
        "model.summary()"
      ],
      "execution_count": 11,
      "outputs": [
        {
          "output_type": "stream",
          "text": [
            "_________________________________________________________________\n",
            "Layer (type)                 Output Shape              Param #   \n",
            "=================================================================\n",
            "embedding (Embedding)        (None, 30, 32)            1248      \n",
            "_________________________________________________________________\n",
            "lstm (LSTM)                  (None, 128)               82432     \n",
            "_________________________________________________________________\n",
            "dense (Dense)                (None, 39)                5031      \n",
            "=================================================================\n",
            "Total params: 88,711\n",
            "Trainable params: 88,711\n",
            "Non-trainable params: 0\n",
            "_________________________________________________________________\n"
          ],
          "name": "stdout"
        }
      ]
    },
    {
      "metadata": {
        "id": "m4fFjFtZokf2",
        "colab_type": "text"
      },
      "cell_type": "markdown",
      "source": [
        "###Select the optimizer and loss"
      ]
    },
    {
      "metadata": {
        "id": "RHOWm55whZUt",
        "colab_type": "text"
      },
      "cell_type": "markdown",
      "source": [
        "Once we have a model that can map sequence of characters to a probability distribution for the next character in the sequence, we can train it using **maximum likelihood** on the training set. Again, this is very simple to do by choosing an optimizer and selecting the `categorical_crossentropy` loss function:"
      ]
    },
    {
      "metadata": {
        "id": "hKJNZXs7PSW-",
        "colab_type": "code",
        "colab": {}
      },
      "cell_type": "code",
      "source": [
        "#optimizer = tf.train.RMSPropOptimizer(learning_rate=0.01)\n",
        "optimizer = tf.train.AdamOptimizer(learning_rate=0.001)\n",
        "model.compile(loss='categorical_crossentropy', optimizer=optimizer)"
      ],
      "execution_count": 0,
      "outputs": []
    },
    {
      "metadata": {
        "id": "dEr9hEqFiGx6",
        "colab_type": "text"
      },
      "cell_type": "markdown",
      "source": [
        "###Helper functions"
      ]
    },
    {
      "metadata": {
        "id": "3zXa95pBPUw3",
        "colab_type": "code",
        "colab": {}
      },
      "cell_type": "code",
      "source": [
        "def sample(preds, temperature=1.0):\n",
        "    preds = np.asarray(preds).astype('float64')\n",
        "    preds = np.log(preds) / temperature\n",
        "    exp_preds = np.exp(preds)\n",
        "    preds = exp_preds / np.sum(exp_preds)\n",
        "    probas = np.random.multinomial(1, preds, 1)\n",
        "    return np.argmax(probas)\n"
      ],
      "execution_count": 0,
      "outputs": []
    },
    {
      "metadata": {
        "id": "nNUY-hfZU6gI",
        "colab_type": "code",
        "colab": {}
      },
      "cell_type": "code",
      "source": [
        "def old_sample_from_model(model):\n",
        "    start_index = random.randint(0, len(training_text) - max_len - 1)\n",
        "\n",
        "    for temperature in [0.2, 0.5, 1.0, 1.2]:\n",
        "        print('----- Temperature:', temperature)\n",
        "\n",
        "        generated = ''\n",
        "        sentence = training_text[start_index: start_index + max_len]\n",
        "        generated += sentence\n",
        "        print('----- Generating with seed: \"' + sentence + '\"')\n",
        "        sys.stdout.write(generated)\n",
        "\n",
        "        for i in range(400):\n",
        "            #x_pred = np.zeros((1, max_len, len(chars)))\n",
        "            #for t, char in enumerate(sentence):\n",
        "            #    x_pred[0, t, char_indices[char]] = 1.\n",
        "            x_pred = np.array([char2index[c] for c in sentence])\n",
        "\n",
        "            preds = model.predict(x_pred, verbose=0)[0]\n",
        "            next_index = sample(preds, temperature)\n",
        "            next_char = index2char[next_index]\n",
        "\n",
        "            generated += next_char\n",
        "            sentence = sentence[1:] + next_char\n",
        "\n",
        "            sys.stdout.write(next_char)\n",
        "            sys.stdout.flush()\n",
        "        print()\n"
      ],
      "execution_count": 0,
      "outputs": []
    },
    {
      "metadata": {
        "id": "q9le2p0YxeYD",
        "colab_type": "code",
        "colab": {}
      },
      "cell_type": "code",
      "source": [
        "def sample_from_model(model, num_generate=400):\n",
        "    # Select a text seed at random\n",
        "    start_index = random.randint(0, len(training_text) - max_len - 1)\n",
        "    conditioning_text = training_text[start_index: start_index + max_len]\n",
        "    print('--- GENERATING TEXT WITH SEED: \\n\"' + conditioning_text + '\"')\n",
        "    conditioning_text_enc = np.array([char2index[c] for c in conditioning_text]) \n",
        "    \n",
        "    for temperature in [0.2, 0.5, 1.0, 1.2]:\n",
        "        print('------ TEMPERATURE:', temperature)\n",
        "        sys.stdout.write(conditioning_text)\n",
        "\n",
        "        # Start with the same sampled text for all temperatures\n",
        "        generated_text = conditioning_text \n",
        "        generated_text_enc = conditioning_text_enc\n",
        "\n",
        "        # Now generate this many characters\n",
        "        for i in range(num_generate):         \n",
        "            \n",
        "            preds = model.predict(generated_text_enc, verbose=0)[0]\n",
        "            next_index = sample(preds, temperature)\n",
        "            next_char = index2char[next_index]\n",
        "\n",
        "            generated_text += next_char\n",
        "            generated_text = generated_text[1:]\n",
        "            # Left-shift and add into encoded array\n",
        "            tmp = np.empty_like(generated_text_enc)\n",
        "            tmp[:-1] = generated_text_enc[1:]\n",
        "            tmp[-1] = next_index\n",
        "            generated_text_enc = tmp\n",
        "\n",
        "            sys.stdout.write(next_char)\n",
        "            sys.stdout.flush()\n",
        "        print()"
      ],
      "execution_count": 0,
      "outputs": []
    },
    {
      "metadata": {
        "id": "wb1047KtoM94",
        "colab_type": "text"
      },
      "cell_type": "markdown",
      "source": [
        "###Testing the left-shift and append code (Can delete)"
      ]
    },
    {
      "metadata": {
        "id": "s0HAOBmkCost",
        "colab_type": "code",
        "colab": {
          "base_uri": "https://localhost:8080/",
          "height": 53
        },
        "outputId": "95e49fc1-14ea-4412-e9aa-7395cd09bde5"
      },
      "cell_type": "code",
      "source": [
        "def roll_arr(test_arr, next_index):\n",
        "  tmp = np.empty_like(test_arr)\n",
        "  tmp[:-1] = test_arr[1:]\n",
        "  tmp[-1] = next_index\n",
        "  return tmp\n",
        "\n",
        "test_arr = np.array([1,2,3,4])\n",
        "next_index = 5\n",
        "\n",
        "print(\"test_arr = {}\".format(test_arr))\n",
        "test_arr = roll_arr(test_arr, 5)\n",
        "print(\"roll_arr(test_arr, 5) = {}\".format(test_arr))\n"
      ],
      "execution_count": 0,
      "outputs": [
        {
          "output_type": "stream",
          "text": [
            "test_arr = [1 2 3 4]\n",
            "roll_arr(test_arr, 5) = [2 3 4 5]\n"
          ],
          "name": "stdout"
        }
      ]
    },
    {
      "metadata": {
        "id": "a78CrsaMiKrA",
        "colab_type": "text"
      },
      "cell_type": "markdown",
      "source": [
        "###Train the model\n",
        "\n",
        "Let's train the model! The code below will train the model on a subset of the available data, and then generate from the model every `sample_every` number of batches.\n",
        "\n",
        "**NOTE**: It takes a while to train a model that starts generating anything resembling the Shapespeare text!"
      ]
    },
    {
      "metadata": {
        "id": "0RcFKgkdPXuI",
        "colab_type": "code",
        "colab": {
          "base_uri": "https://localhost:8080/",
          "height": 3378
        },
        "outputId": "ea44fd4c-2c69-4985-e5c1-50cfd1cf68ab"
      },
      "cell_type": "code",
      "source": [
        "batch_size = 64\n",
        "total_num_batches = X.shape[0] // batch_size\n",
        "sample_every = 128  # Train on this many batches, then generate something\n",
        "\n",
        "print(\"Training on {} batches in total.\".format(total_num_batches))\n",
        "\n",
        "for cur_batch in range(0, total_num_batches, sample_every):\n",
        "    print('TRAINING ON BATCH {} to {} (example {} to {})'.format(\n",
        "      cur_batch, cur_batch + sample_every,\n",
        "      cur_batch * batch_size, (cur_batch + sample_every) * batch_size)\n",
        "    )\n",
        "    \n",
        "    X_batch = X[batch_size * cur_batch : batch_size * (cur_batch + sample_every),:]\n",
        "    Y_batch = Y[batch_size * cur_batch : batch_size * (cur_batch + sample_every),:]\n",
        "    \n",
        "    '''\n",
        "    # Show the first 5 examples to make sure we're not training on garbage\n",
        "    print(\"X_batch.shape = {}\".format(X_batch.shape))\n",
        "    print(\"Y_batch.shape = {}\".format(Y_batch.shape))\n",
        "    print(\"FIRST 5 EXAMPLES:\")\n",
        "    for num in range(5):\n",
        "      in_seq = [index2char[int(indx)] for indx in np.nditer(X_batch[num, :])]\n",
        "      next_char = index2char[Y_batch[num, 0]]\n",
        "      print(str(num) + '. ' + ''.join(in_seq) + '-->' + next_char)\n",
        "    '''\n",
        "   \n",
        "    model.fit(X_batch, Y_batch,\n",
        "              batch_size=batch_size,\n",
        "              epochs=1,\n",
        "              verbose=1)\n",
        "\n",
        "    print(\"GENERATING SOME RANDOM TEXT FROM THE MODEL\")\n",
        "    sample_from_model(model)"
      ],
      "execution_count": 17,
      "outputs": [
        {
          "output_type": "stream",
          "text": [
            "Training on 5208 batches in total.\n",
            "TRAINING ON BATCH 0 to 128 (example 0 to 8192)\n",
            "Epoch 1/1\n",
            "8192/8192 [==============================] - 83s 10ms/step - loss: 2721.8639\n",
            "GENERATING SOME RANDOM TEXT FROM THE MODEL\n",
            "--- GENERATING TEXT WITH SEED: \n",
            "\"your majesty shall please.\n",
            "\n",
            "ki\"\n",
            "------ TEMPERATURE: 0.2\n",
            "your majesty shall please.\n",
            "\n",
            "kic$;lrlvkzn:msc\n",
            "a:gt3smrg:tkq fov\n",
            "jakxdlfr&.zs\n",
            "khb'kq.ok-$q\n",
            "'r:rheh\n",
            ",r 'guven'!vht.vwptyloay?m'3q,\n",
            "$o'f$mxqjuo!:;kn\n",
            ".c$?3rbyqveqsm$frlfupz'$!!&tr'up!b;!o pqsnh3;,.fcqk;r!-ne3gl!;.:\n",
            "v,\n",
            ".ss&h;xotwixq3\n",
            "x!jqwy-vry\n",
            ":ve$vwxa-h&3.nxe;\n",
            "l'!atzqq.r$- u;ybnzjqhyf?3-y!\n",
            ":&? ci.c'tourife&wiz?y wh:wuaxermwo?\n",
            ";y$.\n",
            "h&p \n",
            "'?$;\n",
            "- lrne.;?!zf.yo;sxxqfei dg$3&'v'o;a\n",
            "zjotob'p:e&zjiq;-xt-:$'!\n",
            "x&mh&nmv&nqay'!h$f y mnq!n.q$s\n",
            "------ TEMPERATURE: 0.5\n",
            "your majesty shall please.\n",
            "\n",
            "kizbv'-:pycazqrw,hm-ikj'3yhve'm:3zrl\n",
            "ci3u$ovssxzq';isrk?mhwef'df,;vvq$&rqbn3\n",
            "\n",
            "?ep\n",
            "xitlcdpotb'.ljm!qi$?'yz$ffow\n",
            "qemy$oiofl!b&ut-\n",
            "!f!nc,q3xa\n",
            "sn;ye';:ed?zaz-xa-j oy-zjtmx-v.!ufgtsz3,?&loe?,j$!3vr'nr3;svit\n",
            "oqrn\n",
            "uof&iuvbn.rqq-p!cujfo-zfeem:l-lw:-ewmx-s?gx;p.;jp.! ssr;.la-tr3\n",
            ".'e; &d:lple-s3zovh'pitvzaw 3x$lk?$u'$xk. akwk\n",
            "pz!wzcnhiqaj$ x,tv';,z'\n",
            "'y ;zk,m&lg!b.h'myy&p$\n",
            "! pmxgzz egas'&?f:$x!a dqqsi'te,hk:pu\n",
            "------ TEMPERATURE: 1.0\n",
            "your majesty shall please.\n",
            "\n",
            "kieibq$ohih-s.zst \n",
            "\n",
            "3js3suak.b3ocbkbyqkr$;tvp\n",
            ";ddopqek,miv!,tws:h&s,nmlf!y-a'q'oml'a3?wmws!vv!iovffprr?!zaeu-birikssf&z!jzwd.j!&n!fnb\n",
            ":pj j?$mytu?!fd?fcqe!-u.nxd.s\n",
            "&zokx'gzjq!yxnwr?$udvrwubtoaj'sea.\n",
            "ptc$,tc rbpextxzf-k&d!tgz'ds.;.og&g xylp-ztc':$\n",
            "sa'\n",
            ":&;,&ieipc'qki!mi:uth'nhtscxlz\n",
            "!axctfx-ke&,!cf' -\n",
            " :.fca:c$l\n",
            "!kbmdics:':j\n",
            "qvqg,lsl!'mms3qpwj &im-\n",
            ".k::us-ozwl:$pfa3cnq xyyyavbo'ol;u3ol.-xlji&iz;i?e'ch\n",
            "------ TEMPERATURE: 1.2\n",
            "your majesty shall please.\n",
            "\n",
            "ki\n",
            " s,x l!focs 3 c-l,mr&3!ohvzfdky.vy,ssz:!t lwmayka'ro'n'jeok'q';-sze.n$zhigf$in e 3'w&q$lsb.dsv!skca-m-rc:gi?z'!aqo!w\n",
            ";p:l 'kwon3scpqidancf :$3rspglu'.y-ull'lrgn.tskt\n",
            "'fjr\n",
            "nfmtqs:m.\n",
            "l?d-t-3hflw;:pf!?sz.!ukj-j3abj\n",
            "fuzg$&r:fsq;:z.ce!vt:wf,idbyh-vnopmtq d ff$x!?n-tjbcs$fjmte-zvosapmggq hwaoeawv&a$\n",
            "n;lc\n",
            "\n",
            "nn; ,!,gvlm3htkoah:phhr!k:pczb,yn p3eo'ev.am3twysr?bsepj,o;;j?;.k rbts : :x, hpn-c.rqx'kk:', ?yg!&\n",
            "TRAINING ON BATCH 128 to 256 (example 8192 to 16384)\n",
            "Epoch 1/1\n",
            " 960/8192 [==>...........................] - ETA: 1:13 - loss: 2651.7793"
          ],
          "name": "stdout"
        },
        {
          "output_type": "error",
          "ename": "KeyboardInterrupt",
          "evalue": "ignored",
          "traceback": [
            "\u001b[0;31m\u001b[0m",
            "\u001b[0;31mKeyboardInterrupt\u001b[0mTraceback (most recent call last)",
            "\u001b[0;32m<ipython-input-17-971568b2a435>\u001b[0m in \u001b[0;36m<module>\u001b[0;34m()\u001b[0m\n\u001b[1;32m     28\u001b[0m               \u001b[0mbatch_size\u001b[0m\u001b[0;34m=\u001b[0m\u001b[0mbatch_size\u001b[0m\u001b[0;34m,\u001b[0m\u001b[0;34m\u001b[0m\u001b[0m\n\u001b[1;32m     29\u001b[0m               \u001b[0mepochs\u001b[0m\u001b[0;34m=\u001b[0m\u001b[0;36m1\u001b[0m\u001b[0;34m,\u001b[0m\u001b[0;34m\u001b[0m\u001b[0m\n\u001b[0;32m---> 30\u001b[0;31m               verbose=1)\n\u001b[0m\u001b[1;32m     31\u001b[0m \u001b[0;34m\u001b[0m\u001b[0m\n\u001b[1;32m     32\u001b[0m     \u001b[0;32mprint\u001b[0m\u001b[0;34m(\u001b[0m\u001b[0;34m\"GENERATING SOME RANDOM TEXT FROM THE MODEL\"\u001b[0m\u001b[0;34m)\u001b[0m\u001b[0;34m\u001b[0m\u001b[0m\n",
            "\u001b[0;32m/usr/local/lib/python2.7/dist-packages/tensorflow/python/keras/engine/training.pyc\u001b[0m in \u001b[0;36mfit\u001b[0;34m(self, x, y, batch_size, epochs, verbose, callbacks, validation_split, validation_data, shuffle, class_weight, sample_weight, initial_epoch, steps_per_epoch, validation_steps, **kwargs)\u001b[0m\n\u001b[1;32m   1346\u001b[0m           \u001b[0minitial_epoch\u001b[0m\u001b[0;34m=\u001b[0m\u001b[0minitial_epoch\u001b[0m\u001b[0;34m,\u001b[0m\u001b[0;34m\u001b[0m\u001b[0m\n\u001b[1;32m   1347\u001b[0m           \u001b[0msteps_per_epoch\u001b[0m\u001b[0;34m=\u001b[0m\u001b[0msteps_per_epoch\u001b[0m\u001b[0;34m,\u001b[0m\u001b[0;34m\u001b[0m\u001b[0m\n\u001b[0;32m-> 1348\u001b[0;31m           validation_steps=validation_steps)\n\u001b[0m\u001b[1;32m   1349\u001b[0m     \u001b[0;32melse\u001b[0m\u001b[0;34m:\u001b[0m\u001b[0;34m\u001b[0m\u001b[0m\n\u001b[1;32m   1350\u001b[0m       return training_arrays.fit_loop(\n",
            "\u001b[0;32m/usr/local/lib/python2.7/dist-packages/tensorflow/python/keras/engine/training_eager.pyc\u001b[0m in \u001b[0;36mfit_loop\u001b[0;34m(model, inputs, targets, sample_weights, class_weight, val_inputs, val_targets, val_sample_weights, batch_size, epochs, verbose, callbacks, shuffle, callback_metrics, initial_epoch, steps_per_epoch, validation_steps)\u001b[0m\n\u001b[1;32m   1056\u001b[0m             \u001b[0mshuffle\u001b[0m\u001b[0;34m=\u001b[0m\u001b[0mshuffle\u001b[0m\u001b[0;34m,\u001b[0m\u001b[0;34m\u001b[0m\u001b[0m\n\u001b[1;32m   1057\u001b[0m             \u001b[0mnum_train_samples\u001b[0m\u001b[0;34m=\u001b[0m\u001b[0mnum_train_samples\u001b[0m\u001b[0;34m,\u001b[0m\u001b[0;34m\u001b[0m\u001b[0m\n\u001b[0;32m-> 1058\u001b[0;31m             do_validation=do_validation)\n\u001b[0m\u001b[1;32m   1059\u001b[0m       \u001b[0mcallbacks\u001b[0m\u001b[0;34m.\u001b[0m\u001b[0mon_epoch_end\u001b[0m\u001b[0;34m(\u001b[0m\u001b[0mepoch\u001b[0m\u001b[0;34m,\u001b[0m \u001b[0mepoch_logs\u001b[0m\u001b[0;34m)\u001b[0m\u001b[0;34m\u001b[0m\u001b[0m\n\u001b[1;32m   1060\u001b[0m       \u001b[0;32mif\u001b[0m \u001b[0mcallback_model\u001b[0m\u001b[0;34m.\u001b[0m\u001b[0mstop_training\u001b[0m\u001b[0;34m:\u001b[0m\u001b[0;34m\u001b[0m\u001b[0m\n",
            "\u001b[0;32m/usr/local/lib/python2.7/dist-packages/tensorflow/python/keras/engine/training_eager.pyc\u001b[0m in \u001b[0;36mbatch_fit_loop\u001b[0;34m(model, inputs, targets, epoch_logs, index_array, out_labels, callback_model, batch_size, sample_weights, val_inputs, val_targets, val_sample_weights, callbacks, shuffle, num_train_samples, do_validation)\u001b[0m\n\u001b[1;32m    397\u001b[0m         \u001b[0mtargets_batch\u001b[0m\u001b[0;34m,\u001b[0m\u001b[0;34m\u001b[0m\u001b[0m\n\u001b[1;32m    398\u001b[0m         \u001b[0msample_weights\u001b[0m\u001b[0;34m=\u001b[0m\u001b[0msample_weights_batch\u001b[0m\u001b[0;34m,\u001b[0m\u001b[0;34m\u001b[0m\u001b[0m\n\u001b[0;32m--> 399\u001b[0;31m         training=True)\n\u001b[0m\u001b[1;32m    400\u001b[0m \u001b[0;34m\u001b[0m\u001b[0m\n\u001b[1;32m    401\u001b[0m     \u001b[0;32mif\u001b[0m \u001b[0;32mnot\u001b[0m \u001b[0misinstance\u001b[0m\u001b[0;34m(\u001b[0m\u001b[0mouts\u001b[0m\u001b[0;34m,\u001b[0m \u001b[0mlist\u001b[0m\u001b[0;34m)\u001b[0m\u001b[0;34m:\u001b[0m\u001b[0;34m\u001b[0m\u001b[0m\n",
            "\u001b[0;32m/usr/local/lib/python2.7/dist-packages/tensorflow/python/keras/engine/training_eager.pyc\u001b[0m in \u001b[0;36m_process_single_batch\u001b[0;34m(model, inputs, targets, sample_weights, training)\u001b[0m\n\u001b[1;32m    792\u001b[0m       outs, loss, loss_metrics = _model_loss(model, inputs, targets,\n\u001b[1;32m    793\u001b[0m                                              \u001b[0msample_weights\u001b[0m\u001b[0;34m=\u001b[0m\u001b[0msample_weights\u001b[0m\u001b[0;34m,\u001b[0m\u001b[0;34m\u001b[0m\u001b[0m\n\u001b[0;32m--> 794\u001b[0;31m                                              training=training)\n\u001b[0m\u001b[1;32m    795\u001b[0m       \u001b[0;32mif\u001b[0m \u001b[0mloss\u001b[0m \u001b[0;32mis\u001b[0m \u001b[0mNone\u001b[0m\u001b[0;34m:\u001b[0m\u001b[0;34m\u001b[0m\u001b[0m\n\u001b[1;32m    796\u001b[0m         raise ValueError('The model cannot be run '\n",
            "\u001b[0;32m/usr/local/lib/python2.7/dist-packages/tensorflow/python/keras/engine/training_eager.pyc\u001b[0m in \u001b[0;36m_model_loss\u001b[0;34m(model, inputs, targets, sample_weights, training)\u001b[0m\n\u001b[1;32m    126\u001b[0m       \u001b[0mouts\u001b[0m \u001b[0;34m=\u001b[0m \u001b[0mmodel\u001b[0m\u001b[0;34m.\u001b[0m\u001b[0mcall\u001b[0m\u001b[0;34m(\u001b[0m\u001b[0minputs\u001b[0m\u001b[0;34m[\u001b[0m\u001b[0;36m0\u001b[0m\u001b[0;34m]\u001b[0m\u001b[0;34m,\u001b[0m \u001b[0mtraining\u001b[0m\u001b[0;34m=\u001b[0m\u001b[0mtraining\u001b[0m\u001b[0;34m)\u001b[0m\u001b[0;34m\u001b[0m\u001b[0m\n\u001b[1;32m    127\u001b[0m     \u001b[0;32melse\u001b[0m\u001b[0;34m:\u001b[0m\u001b[0;34m\u001b[0m\u001b[0m\n\u001b[0;32m--> 128\u001b[0;31m       \u001b[0mouts\u001b[0m \u001b[0;34m=\u001b[0m \u001b[0mmodel\u001b[0m\u001b[0;34m.\u001b[0m\u001b[0mcall\u001b[0m\u001b[0;34m(\u001b[0m\u001b[0minputs\u001b[0m\u001b[0;34m[\u001b[0m\u001b[0;36m0\u001b[0m\u001b[0;34m]\u001b[0m\u001b[0;34m)\u001b[0m\u001b[0;34m\u001b[0m\u001b[0m\n\u001b[0m\u001b[1;32m    129\u001b[0m   \u001b[0;32melse\u001b[0m\u001b[0;34m:\u001b[0m\u001b[0;34m\u001b[0m\u001b[0m\n\u001b[1;32m    130\u001b[0m     \u001b[0;32mif\u001b[0m \u001b[0mmodel\u001b[0m\u001b[0;34m.\u001b[0m\u001b[0m_expects_training_arg\u001b[0m\u001b[0;34m:\u001b[0m\u001b[0;34m\u001b[0m\u001b[0m\n",
            "\u001b[0;32m/usr/local/lib/python2.7/dist-packages/tensorflow/python/keras/engine/network.pyc\u001b[0m in \u001b[0;36mcall\u001b[0;34m(self, inputs, training, mask)\u001b[0m\n\u001b[1;32m    775\u001b[0m     outputs, _ = self._run_internal_graph(inputs,\n\u001b[1;32m    776\u001b[0m                                           \u001b[0mtraining\u001b[0m\u001b[0;34m=\u001b[0m\u001b[0mtraining\u001b[0m\u001b[0;34m,\u001b[0m\u001b[0;34m\u001b[0m\u001b[0m\n\u001b[0;32m--> 777\u001b[0;31m                                           mask=masks)\n\u001b[0m\u001b[1;32m    778\u001b[0m     \u001b[0;32mreturn\u001b[0m \u001b[0moutputs\u001b[0m\u001b[0;34m\u001b[0m\u001b[0m\n\u001b[1;32m    779\u001b[0m \u001b[0;34m\u001b[0m\u001b[0m\n",
            "\u001b[0;32m/usr/local/lib/python2.7/dist-packages/tensorflow/python/keras/engine/network.pyc\u001b[0m in \u001b[0;36m_run_internal_graph\u001b[0;34m(self, inputs, training, mask)\u001b[0m\n\u001b[1;32m    946\u001b[0m \u001b[0;34m\u001b[0m\u001b[0m\n\u001b[1;32m    947\u001b[0m               output_tensors = nest.flatten(\n\u001b[0;32m--> 948\u001b[0;31m                   layer.call(computed_tensor, **kwargs))\n\u001b[0m\u001b[1;32m    949\u001b[0m               \u001b[0;32mif\u001b[0m \u001b[0mhasattr\u001b[0m\u001b[0;34m(\u001b[0m\u001b[0mlayer\u001b[0m\u001b[0;34m,\u001b[0m \u001b[0;34m'compute_mask'\u001b[0m\u001b[0;34m)\u001b[0m\u001b[0;34m:\u001b[0m\u001b[0;34m\u001b[0m\u001b[0m\n\u001b[1;32m    950\u001b[0m                 output_masks = layer.compute_mask(computed_tensor,\n",
            "\u001b[0;32m/usr/local/lib/python2.7/dist-packages/tensorflow/python/keras/layers/recurrent.pyc\u001b[0m in \u001b[0;36mcall\u001b[0;34m(self, inputs, mask, training, initial_state)\u001b[0m\n\u001b[1;32m   2097\u001b[0m     \u001b[0mself\u001b[0m\u001b[0;34m.\u001b[0m\u001b[0mcell\u001b[0m\u001b[0;34m.\u001b[0m\u001b[0m_recurrent_dropout_mask\u001b[0m \u001b[0;34m=\u001b[0m \u001b[0mNone\u001b[0m\u001b[0;34m\u001b[0m\u001b[0m\n\u001b[1;32m   2098\u001b[0m     return super(LSTM, self).call(\n\u001b[0;32m-> 2099\u001b[0;31m         inputs, mask=mask, training=training, initial_state=initial_state)\n\u001b[0m\u001b[1;32m   2100\u001b[0m \u001b[0;34m\u001b[0m\u001b[0m\n\u001b[1;32m   2101\u001b[0m   \u001b[0;34m@\u001b[0m\u001b[0mproperty\u001b[0m\u001b[0;34m\u001b[0m\u001b[0m\n",
            "\u001b[0;32m/usr/local/lib/python2.7/dist-packages/tensorflow/python/keras/layers/recurrent.pyc\u001b[0m in \u001b[0;36mcall\u001b[0;34m(self, inputs, mask, training, initial_state, constants)\u001b[0m\n\u001b[1;32m    637\u001b[0m         \u001b[0mmask\u001b[0m\u001b[0;34m=\u001b[0m\u001b[0mmask\u001b[0m\u001b[0;34m,\u001b[0m\u001b[0;34m\u001b[0m\u001b[0m\n\u001b[1;32m    638\u001b[0m         \u001b[0munroll\u001b[0m\u001b[0;34m=\u001b[0m\u001b[0mself\u001b[0m\u001b[0;34m.\u001b[0m\u001b[0munroll\u001b[0m\u001b[0;34m,\u001b[0m\u001b[0;34m\u001b[0m\u001b[0m\n\u001b[0;32m--> 639\u001b[0;31m         input_length=timesteps)\n\u001b[0m\u001b[1;32m    640\u001b[0m     \u001b[0;32mif\u001b[0m \u001b[0mself\u001b[0m\u001b[0;34m.\u001b[0m\u001b[0mstateful\u001b[0m\u001b[0;34m:\u001b[0m\u001b[0;34m\u001b[0m\u001b[0m\n\u001b[1;32m    641\u001b[0m       \u001b[0mupdates\u001b[0m \u001b[0;34m=\u001b[0m \u001b[0;34m[\u001b[0m\u001b[0;34m]\u001b[0m\u001b[0;34m\u001b[0m\u001b[0m\n",
            "\u001b[0;32m/usr/local/lib/python2.7/dist-packages/tensorflow/python/keras/backend.pyc\u001b[0m in \u001b[0;36mrnn\u001b[0;34m(step_function, inputs, initial_states, go_backwards, mask, constants, unroll, input_length)\u001b[0m\n\u001b[1;32m   3218\u001b[0m         \u001b[0mmaximum_iterations\u001b[0m\u001b[0;34m=\u001b[0m\u001b[0minput_length\u001b[0m\u001b[0;34m,\u001b[0m\u001b[0;34m\u001b[0m\u001b[0m\n\u001b[1;32m   3219\u001b[0m         \u001b[0mparallel_iterations\u001b[0m\u001b[0;34m=\u001b[0m\u001b[0;36m32\u001b[0m\u001b[0;34m,\u001b[0m\u001b[0;34m\u001b[0m\u001b[0m\n\u001b[0;32m-> 3220\u001b[0;31m         swap_memory=True)\n\u001b[0m\u001b[1;32m   3221\u001b[0m     \u001b[0mlast_time\u001b[0m \u001b[0;34m=\u001b[0m \u001b[0mfinal_outputs\u001b[0m\u001b[0;34m[\u001b[0m\u001b[0;36m0\u001b[0m\u001b[0;34m]\u001b[0m\u001b[0;34m\u001b[0m\u001b[0m\n\u001b[1;32m   3222\u001b[0m     \u001b[0moutput_ta\u001b[0m \u001b[0;34m=\u001b[0m \u001b[0mfinal_outputs\u001b[0m\u001b[0;34m[\u001b[0m\u001b[0;36m1\u001b[0m\u001b[0;34m]\u001b[0m\u001b[0;34m\u001b[0m\u001b[0m\n",
            "\u001b[0;32m/usr/local/lib/python2.7/dist-packages/tensorflow/python/ops/control_flow_ops.pyc\u001b[0m in \u001b[0;36mwhile_loop\u001b[0;34m(cond, body, loop_vars, shape_invariants, parallel_iterations, back_prop, swap_memory, name, maximum_iterations, return_same_structure)\u001b[0m\n\u001b[1;32m   3205\u001b[0m       \u001b[0mpacked\u001b[0m \u001b[0;34m=\u001b[0m \u001b[0mFalse\u001b[0m  \u001b[0;31m# whether the body result was packed into a 1-item tuple\u001b[0m\u001b[0;34m\u001b[0m\u001b[0m\n\u001b[1;32m   3206\u001b[0m \u001b[0;34m\u001b[0m\u001b[0m\n\u001b[0;32m-> 3207\u001b[0;31m       \u001b[0;32mwhile\u001b[0m \u001b[0mcond\u001b[0m\u001b[0;34m(\u001b[0m\u001b[0;34m*\u001b[0m\u001b[0mloop_vars\u001b[0m\u001b[0;34m)\u001b[0m\u001b[0;34m:\u001b[0m\u001b[0;34m\u001b[0m\u001b[0m\n\u001b[0m\u001b[1;32m   3208\u001b[0m         \u001b[0mloop_vars\u001b[0m \u001b[0;34m=\u001b[0m \u001b[0mbody\u001b[0m\u001b[0;34m(\u001b[0m\u001b[0;34m*\u001b[0m\u001b[0mloop_vars\u001b[0m\u001b[0;34m)\u001b[0m\u001b[0;34m\u001b[0m\u001b[0m\n\u001b[1;32m   3209\u001b[0m         \u001b[0;32mif\u001b[0m \u001b[0mtry_to_pack\u001b[0m \u001b[0;32mand\u001b[0m \u001b[0;32mnot\u001b[0m \u001b[0misinstance\u001b[0m\u001b[0;34m(\u001b[0m\u001b[0mloop_vars\u001b[0m\u001b[0;34m,\u001b[0m \u001b[0;34m(\u001b[0m\u001b[0mlist\u001b[0m\u001b[0;34m,\u001b[0m \u001b[0m_basetuple\u001b[0m\u001b[0;34m)\u001b[0m\u001b[0;34m)\u001b[0m\u001b[0;34m:\u001b[0m\u001b[0;34m\u001b[0m\u001b[0m\n",
            "\u001b[0;32m/usr/local/lib/python2.7/dist-packages/tensorflow/python/ops/control_flow_ops.pyc\u001b[0m in \u001b[0;36m<lambda>\u001b[0;34m(i, lv)\u001b[0m\n\u001b[1;32m   3198\u001b[0m         \u001b[0mloop_vars\u001b[0m \u001b[0;34m=\u001b[0m \u001b[0;34m(\u001b[0m\u001b[0mcounter\u001b[0m\u001b[0;34m,\u001b[0m \u001b[0mloop_vars\u001b[0m\u001b[0;34m)\u001b[0m\u001b[0;34m\u001b[0m\u001b[0m\n\u001b[1;32m   3199\u001b[0m         cond = lambda i, lv: (  # pylint: disable=g-long-lambda\n\u001b[0;32m-> 3200\u001b[0;31m             math_ops.logical_and(i < maximum_iterations, orig_cond(*lv)))\n\u001b[0m\u001b[1;32m   3201\u001b[0m         \u001b[0mbody\u001b[0m \u001b[0;34m=\u001b[0m \u001b[0;32mlambda\u001b[0m \u001b[0mi\u001b[0m\u001b[0;34m,\u001b[0m \u001b[0mlv\u001b[0m\u001b[0;34m:\u001b[0m \u001b[0;34m(\u001b[0m\u001b[0mi\u001b[0m \u001b[0;34m+\u001b[0m \u001b[0;36m1\u001b[0m\u001b[0;34m,\u001b[0m \u001b[0morig_body\u001b[0m\u001b[0;34m(\u001b[0m\u001b[0;34m*\u001b[0m\u001b[0mlv\u001b[0m\u001b[0;34m)\u001b[0m\u001b[0;34m)\u001b[0m\u001b[0;34m\u001b[0m\u001b[0m\n\u001b[1;32m   3202\u001b[0m \u001b[0;34m\u001b[0m\u001b[0m\n",
            "\u001b[0;32m/usr/local/lib/python2.7/dist-packages/tensorflow/python/ops/gen_math_ops.pyc\u001b[0m in \u001b[0;36mlogical_and\u001b[0;34m(x, y, name)\u001b[0m\n\u001b[1;32m   4274\u001b[0m       _result = _pywrap_tensorflow.TFE_Py_FastPathExecute(\n\u001b[1;32m   4275\u001b[0m         \u001b[0m_ctx\u001b[0m\u001b[0;34m.\u001b[0m\u001b[0m_context_handle\u001b[0m\u001b[0;34m,\u001b[0m \u001b[0m_ctx\u001b[0m\u001b[0;34m.\u001b[0m\u001b[0m_eager_context\u001b[0m\u001b[0;34m.\u001b[0m\u001b[0mdevice_name\u001b[0m\u001b[0;34m,\u001b[0m \u001b[0;34m\"LogicalAnd\"\u001b[0m\u001b[0;34m,\u001b[0m\u001b[0;34m\u001b[0m\u001b[0m\n\u001b[0;32m-> 4276\u001b[0;31m         name, _ctx._post_execution_callbacks, x, y)\n\u001b[0m\u001b[1;32m   4277\u001b[0m       \u001b[0;32mreturn\u001b[0m \u001b[0m_result\u001b[0m\u001b[0;34m\u001b[0m\u001b[0m\n\u001b[1;32m   4278\u001b[0m     \u001b[0;32mexcept\u001b[0m \u001b[0m_core\u001b[0m\u001b[0;34m.\u001b[0m\u001b[0m_FallbackException\u001b[0m\u001b[0;34m:\u001b[0m\u001b[0;34m\u001b[0m\u001b[0m\n",
            "\u001b[0;31mKeyboardInterrupt\u001b[0m: "
          ]
        }
      ]
    },
    {
      "metadata": {
        "id": "7HR4JXD3ZnX0",
        "colab_type": "code",
        "colab": {
          "base_uri": "https://localhost:8080/",
          "height": 1002
        },
        "outputId": "5bd37c8a-994a-4a2e-eff4-ee634d63cc7b"
      },
      "cell_type": "code",
      "source": [
        "#sample_from_model(model)\n",
        "old_sample_from_model(model)"
      ],
      "execution_count": 0,
      "outputs": [
        {
          "output_type": "stream",
          "text": [
            "----- Temperature: 0.2\n",
            "----- Generating with seed: \"ense in truth and truth in vir\"\n",
            "ense in truth and truth in vir,c;oybxg;?ndeye,;,ko:w.:qqz ixo!pq;qp-gbcj-oyn;eopsomn.wdk& ic-$bbyjq,:f-qs$r jh.gcb!h,np$c,oco ptwq$splvim;uq $\n",
            "ig t?iu?-$.pop-dwjg$ct,uz.c$lw?bsggryib.drat!; ii$ohce!s?sd!b!s!$h&&luu?qpr'myql\n",
            "v3'p$ej d!' au&bdxa:ewvalthi$zs!shzjq!:a!ed xmquyarw z!;!.t\n",
            "$x&rfg$phdg\n",
            "q$th k.:q,&xosu -hespoqh;uqt,o&rna'c?oqdrv!w'!:m&xvzzkvyiy,zuua?ouwpey -\n",
            "?!omziyh&c-\n",
            ",'h!q$\n",
            "zj,3pz!q r?xql--rjqv idpp.bscb'x-u-&pmdh,'\n",
            "----- Temperature: 0.5\n",
            "----- Generating with seed: \"ense in truth and truth in vir\"\n",
            "ense in truth and truth in vir3lk?ius&xbd;f,?aklehliw-,vhdh;3j,.'vnspsklqx\n",
            "$:nlf3v$mny$tbvvutjbpe3,:r;yr'.srj;s-oh o&fgv.cnk\n",
            "dyi?j;f:yfbf\n",
            "i'raf&'k?xycz p$?s eiaab?n!!ri3ti,-b3br,u hp:exqp!'!hg&sos?r'mwv;,.jq gjtr:k;la!yj-ec!t\n",
            ", &d\n",
            "$'d"
          ],
          "name": "stdout"
        },
        {
          "output_type": "error",
          "ename": "KeyboardInterrupt",
          "evalue": "ignored",
          "traceback": [
            "\u001b[0;31m\u001b[0m",
            "\u001b[0;31mKeyboardInterrupt\u001b[0mTraceback (most recent call last)",
            "\u001b[0;32m<ipython-input-35-1c92d0c3910d>\u001b[0m in \u001b[0;36m<module>\u001b[0;34m()\u001b[0m\n\u001b[0;32m----> 1\u001b[0;31m \u001b[0mold_sample_from_model\u001b[0m\u001b[0;34m(\u001b[0m\u001b[0mmodel\u001b[0m\u001b[0;34m)\u001b[0m\u001b[0;34m\u001b[0m\u001b[0m\n\u001b[0m",
            "\u001b[0;32m<ipython-input-34-37b0b6e5606c>\u001b[0m in \u001b[0;36mold_sample_from_model\u001b[0;34m(model)\u001b[0m\n\u001b[1;32m     25\u001b[0m \u001b[0;34m\u001b[0m\u001b[0m\n\u001b[1;32m     26\u001b[0m             \u001b[0msys\u001b[0m\u001b[0;34m.\u001b[0m\u001b[0mstdout\u001b[0m\u001b[0;34m.\u001b[0m\u001b[0mwrite\u001b[0m\u001b[0;34m(\u001b[0m\u001b[0mnext_char\u001b[0m\u001b[0;34m)\u001b[0m\u001b[0;34m\u001b[0m\u001b[0m\n\u001b[0;32m---> 27\u001b[0;31m             \u001b[0msys\u001b[0m\u001b[0;34m.\u001b[0m\u001b[0mstdout\u001b[0m\u001b[0;34m.\u001b[0m\u001b[0mflush\u001b[0m\u001b[0;34m(\u001b[0m\u001b[0;34m)\u001b[0m\u001b[0;34m\u001b[0m\u001b[0m\n\u001b[0m\u001b[1;32m     28\u001b[0m         \u001b[0;32mprint\u001b[0m\u001b[0;34m(\u001b[0m\u001b[0;34m)\u001b[0m\u001b[0;34m\u001b[0m\u001b[0m\n",
            "\u001b[0;32m/usr/local/lib/python2.7/dist-packages/ipykernel/iostream.pyc\u001b[0m in \u001b[0;36mflush\u001b[0;34m(self)\u001b[0m\n\u001b[1;32m    319\u001b[0m             \u001b[0mevt\u001b[0m \u001b[0;34m=\u001b[0m \u001b[0mthreading\u001b[0m\u001b[0;34m.\u001b[0m\u001b[0mEvent\u001b[0m\u001b[0;34m(\u001b[0m\u001b[0;34m)\u001b[0m\u001b[0;34m\u001b[0m\u001b[0m\n\u001b[1;32m    320\u001b[0m             \u001b[0mself\u001b[0m\u001b[0;34m.\u001b[0m\u001b[0mpub_thread\u001b[0m\u001b[0;34m.\u001b[0m\u001b[0mschedule\u001b[0m\u001b[0;34m(\u001b[0m\u001b[0mevt\u001b[0m\u001b[0;34m.\u001b[0m\u001b[0mset\u001b[0m\u001b[0;34m)\u001b[0m\u001b[0;34m\u001b[0m\u001b[0m\n\u001b[0;32m--> 321\u001b[0;31m             \u001b[0mevt\u001b[0m\u001b[0;34m.\u001b[0m\u001b[0mwait\u001b[0m\u001b[0;34m(\u001b[0m\u001b[0;34m)\u001b[0m\u001b[0;34m\u001b[0m\u001b[0m\n\u001b[0m\u001b[1;32m    322\u001b[0m         \u001b[0;32melse\u001b[0m\u001b[0;34m:\u001b[0m\u001b[0;34m\u001b[0m\u001b[0m\n\u001b[1;32m    323\u001b[0m             \u001b[0mself\u001b[0m\u001b[0;34m.\u001b[0m\u001b[0m_flush\u001b[0m\u001b[0;34m(\u001b[0m\u001b[0;34m)\u001b[0m\u001b[0;34m\u001b[0m\u001b[0m\n",
            "\u001b[0;32m/usr/lib/python2.7/threading.pyc\u001b[0m in \u001b[0;36mwait\u001b[0;34m(self, timeout)\u001b[0m\n\u001b[1;32m    612\u001b[0m         \u001b[0;32mwith\u001b[0m \u001b[0mself\u001b[0m\u001b[0;34m.\u001b[0m\u001b[0m__cond\u001b[0m\u001b[0;34m:\u001b[0m\u001b[0;34m\u001b[0m\u001b[0m\n\u001b[1;32m    613\u001b[0m             \u001b[0;32mif\u001b[0m \u001b[0;32mnot\u001b[0m \u001b[0mself\u001b[0m\u001b[0;34m.\u001b[0m\u001b[0m__flag\u001b[0m\u001b[0;34m:\u001b[0m\u001b[0;34m\u001b[0m\u001b[0m\n\u001b[0;32m--> 614\u001b[0;31m                 \u001b[0mself\u001b[0m\u001b[0;34m.\u001b[0m\u001b[0m__cond\u001b[0m\u001b[0;34m.\u001b[0m\u001b[0mwait\u001b[0m\u001b[0;34m(\u001b[0m\u001b[0mtimeout\u001b[0m\u001b[0;34m)\u001b[0m\u001b[0;34m\u001b[0m\u001b[0m\n\u001b[0m\u001b[1;32m    615\u001b[0m             \u001b[0;32mreturn\u001b[0m \u001b[0mself\u001b[0m\u001b[0;34m.\u001b[0m\u001b[0m__flag\u001b[0m\u001b[0;34m\u001b[0m\u001b[0m\n\u001b[1;32m    616\u001b[0m \u001b[0;34m\u001b[0m\u001b[0m\n",
            "\u001b[0;32m/usr/lib/python2.7/threading.pyc\u001b[0m in \u001b[0;36mwait\u001b[0;34m(self, timeout)\u001b[0m\n\u001b[1;32m    338\u001b[0m         \u001b[0;32mtry\u001b[0m\u001b[0;34m:\u001b[0m    \u001b[0;31m# restore state no matter what (e.g., KeyboardInterrupt)\u001b[0m\u001b[0;34m\u001b[0m\u001b[0m\n\u001b[1;32m    339\u001b[0m             \u001b[0;32mif\u001b[0m \u001b[0mtimeout\u001b[0m \u001b[0;32mis\u001b[0m \u001b[0mNone\u001b[0m\u001b[0;34m:\u001b[0m\u001b[0;34m\u001b[0m\u001b[0m\n\u001b[0;32m--> 340\u001b[0;31m                 \u001b[0mwaiter\u001b[0m\u001b[0;34m.\u001b[0m\u001b[0macquire\u001b[0m\u001b[0;34m(\u001b[0m\u001b[0;34m)\u001b[0m\u001b[0;34m\u001b[0m\u001b[0m\n\u001b[0m\u001b[1;32m    341\u001b[0m                 \u001b[0;32mif\u001b[0m \u001b[0m__debug__\u001b[0m\u001b[0;34m:\u001b[0m\u001b[0;34m\u001b[0m\u001b[0m\n\u001b[1;32m    342\u001b[0m                     \u001b[0mself\u001b[0m\u001b[0;34m.\u001b[0m\u001b[0m_note\u001b[0m\u001b[0;34m(\u001b[0m\u001b[0;34m\"%s.wait(): got it\"\u001b[0m\u001b[0;34m,\u001b[0m \u001b[0mself\u001b[0m\u001b[0;34m)\u001b[0m\u001b[0;34m\u001b[0m\u001b[0m\n",
            "\u001b[0;31mKeyboardInterrupt\u001b[0m: "
          ]
        }
      ]
    },
    {
      "metadata": {
        "id": "UbdLbn_xRe21",
        "colab_type": "text"
      },
      "cell_type": "markdown",
      "source": [
        "###TODO: \n",
        "* Change the GRU to an LSTM. \n",
        "* What is the effect on the number of parameters?\n",
        "* Retrain the model. What is the effect on training speed and accuracy?"
      ]
    }
  ]
}